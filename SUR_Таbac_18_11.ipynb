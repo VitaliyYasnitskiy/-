{
  "nbformat": 4,
  "nbformat_minor": 0,
  "metadata": {
    "kernelspec": {
      "display_name": "Python 3",
      "language": "python",
      "name": "python3"
    },
    "language_info": {
      "codemirror_mode": {
        "name": "ipython",
        "version": 3
      },
      "file_extension": ".py",
      "mimetype": "text/x-python",
      "name": "python",
      "nbconvert_exporter": "python",
      "pygments_lexer": "ipython3",
      "version": "3.6.9"
    },
    "colab": {
      "name": "SUR Таbac_18_11.ipynb",
      "provenance": [],
      "collapsed_sections": [
        "Ht6A8LLHvFA7"
      ],
      "include_colab_link": true
    }
  },
  "cells": [
    {
      "cell_type": "markdown",
      "metadata": {
        "id": "view-in-github",
        "colab_type": "text"
      },
      "source": [
        "<a href=\"https://colab.research.google.com/github/VitaliyYasnitskiy/-/blob/main/SUR_%D0%A2%D0%B0bac_18_11.ipynb\" target=\"_parent\"><img src=\"https://colab.research.google.com/assets/colab-badge.svg\" alt=\"Open In Colab\"/></a>"
      ]
    },
    {
      "cell_type": "markdown",
      "metadata": {
        "id": "bxNd6muEvFAd"
      },
      "source": [
        "### Установка библиотеки для работы с ClickHouse"
      ]
    },
    {
      "cell_type": "code",
      "metadata": {
        "id": "b2gsbeZpvFAh",
        "outputId": "a7d9ab0c-9a67-47ac-e0f1-6ec74b67ab71"
      },
      "source": [
        "import subprocess\n",
        "import sys\n",
        "\n",
        "def pip_install(package):\n",
        "    return subprocess.check_output([sys.executable, \"-m\", \"pip\", \"install\", package])\n",
        "\n",
        "pip_install(\"pandahouse\")"
      ],
      "execution_count": null,
      "outputs": [
        {
          "data": {
            "text/plain": [
              "b'Defaulting to user installation because normal site-packages is not writeable\\nRequirement already satisfied: pandahouse in ./.local/lib/python3.6/site-packages (0.2.7)\\nRequirement already satisfied: requests in ./.local/lib/python3.6/site-packages (from pandahouse) (2.26.0)\\nRequirement already satisfied: toolz in ./.local/lib/python3.6/site-packages (from pandahouse) (0.11.1)\\nRequirement already satisfied: pandas in ./.local/lib/python3.6/site-packages (from pandahouse) (1.1.5)\\nRequirement already satisfied: pytz>=2017.2 in ./.local/lib/python3.6/site-packages (from pandas->pandahouse) (2021.3)\\nRequirement already satisfied: numpy>=1.15.4 in ./.local/lib/python3.6/site-packages (from pandas->pandahouse) (1.19.5)\\nRequirement already satisfied: python-dateutil>=2.7.3 in ./.local/lib/python3.6/site-packages (from pandas->pandahouse) (2.8.2)\\nRequirement already satisfied: charset-normalizer~=2.0.0 in ./.local/lib/python3.6/site-packages (from requests->pandahouse) (2.0.7)\\nRequirement already satisfied: urllib3<1.27,>=1.21.1 in ./.local/lib/python3.6/site-packages (from requests->pandahouse) (1.26.7)\\nRequirement already satisfied: certifi>=2017.4.17 in ./.local/lib/python3.6/site-packages (from requests->pandahouse) (2021.10.8)\\nRequirement already satisfied: idna<4,>=2.5 in ./.local/lib/python3.6/site-packages (from requests->pandahouse) (3.3)\\nRequirement already satisfied: six>=1.5 in ./.local/lib/python3.6/site-packages (from python-dateutil>=2.7.3->pandas->pandahouse) (1.16.0)\\n'"
            ]
          },
          "execution_count": 1,
          "metadata": {},
          "output_type": "execute_result"
        }
      ]
    },
    {
      "cell_type": "markdown",
      "metadata": {
        "id": "KiZk_CO7vFAk"
      },
      "source": [
        "### Параметры соединения с ClickHouse\n",
        "Нужно вписать логин-пароль, адрес клика, базу данных, с которой планируется работать"
      ]
    },
    {
      "cell_type": "code",
      "metadata": {
        "id": "a8wQN6cUvFAk"
      },
      "source": [
        "connection_test = dict(database='work_test',\n",
        "                  host=\"http://clickhouse01.prod.analytics.crpt.tech:8123\",\n",
        "                  user='vyasnickiy',\n",
        "                  password='VYzbh!2AePgPyux')\n",
        "\n",
        "connection = dict(database='agg',\n",
        "                  host=\"http://clickhouse01.prod.analytics.crpt.tech:8123\",\n",
        "                  user='vyasnickiy',\n",
        "                  password='VYzbh!2AePgPyux')\n",
        "\n",
        "connection_old = dict(database='agg',\n",
        "                 \n",
        "                  host=\"http://clickhouse01.prod.tobacco.crpt.tech:8123\",\n",
        "                  user='vyasnitskiy',\n",
        "                  password='cJZ7OA7Z')"
      ],
      "execution_count": null,
      "outputs": []
    },
    {
      "cell_type": "code",
      "metadata": {
        "id": "EqcIgSPuvFAl",
        "outputId": "0ca37a99-8fbc-4d2f-e666-b8d045ca1180"
      },
      "source": [
        "pip install openpyxl"
      ],
      "execution_count": null,
      "outputs": [
        {
          "name": "stdout",
          "output_type": "stream",
          "text": [
            "Defaulting to user installation because normal site-packages is not writeable\n",
            "Requirement already satisfied: openpyxl in ./.local/lib/python3.6/site-packages (3.0.9)\n",
            "Requirement already satisfied: et-xmlfile in ./.local/lib/python3.6/site-packages (from openpyxl) (1.1.0)\n",
            "\u001b[33mWARNING: You are using pip version 21.3; however, version 21.3.1 is available.\n",
            "You should consider upgrading via the '/usr/bin/python3 -m pip install --upgrade pip' command.\u001b[0m\n",
            "Note: you may need to restart the kernel to use updated packages.\n"
          ]
        }
      ]
    },
    {
      "cell_type": "markdown",
      "metadata": {
        "id": "KBPYN15XvFAl"
      },
      "source": [
        "### Чтение данных из слика в пандас"
      ]
    },
    {
      "cell_type": "code",
      "metadata": {
        "id": "3laBj12FvFAm"
      },
      "source": [
        "pdf = ph.read_clickhouse('SELECT gtin, sgtin FROM work_test.tmp_sgtins_archive_arrays limit 10', connection=connection)\n",
        "pdf"
      ],
      "execution_count": null,
      "outputs": []
    },
    {
      "cell_type": "code",
      "metadata": {
        "id": "qEw-ZSfDvFAn"
      },
      "source": [
        "#pdf = ph.read_clickhouse('SELECT gtin FROM agg.agg_cis limit 10', connection=connection_old)\n",
        "pdf = ph.read_clickhouse('SELECT gt FROM agg.daily_moves limit 10', connection=connection_old)\n",
        "#daily_sp_sales\n",
        "pdf"
      ],
      "execution_count": null,
      "outputs": []
    },
    {
      "cell_type": "markdown",
      "metadata": {
        "id": "xKrhwnqZvFAn"
      },
      "source": [
        "### Заливка данных в клик\n",
        "Таблица должна существовать в клике, схема используется из connection, в названии таблицы схему указывать не нужно"
      ]
    },
    {
      "cell_type": "code",
      "metadata": {
        "id": "JWL56HaYvFAo"
      },
      "source": [
        "ph.to_clickhouse(pdf, 'test_pd2click', index=False, chunksize=100000, connection=connection)"
      ],
      "execution_count": null,
      "outputs": []
    },
    {
      "cell_type": "markdown",
      "metadata": {
        "id": "UUF9VsHhvFAp"
      },
      "source": [
        "### Проверка заливки"
      ]
    },
    {
      "cell_type": "code",
      "metadata": {
        "id": "9RP2fw_SvFAp"
      },
      "source": [
        "ph.read_clickhouse('SELECT * FROM work_test.test_pd2click limit 10', connection=connection)"
      ],
      "execution_count": null,
      "outputs": []
    },
    {
      "cell_type": "code",
      "metadata": {
        "id": "7-cBoPoXvFAp"
      },
      "source": [
        "select_movies_query = \"\"\"\n",
        "SELECT gtin \n",
        "FROM agg.agg_cis\n",
        "\n",
        "limit 100\n",
        "\"\"\"\n",
        "pdf = ph.read_clickhouse(select_movies_query,connection=connection)\n",
        "pdf.head()\n",
        "#where inn IN (\"\"\"+str(DB_str)+\"\"\") or inn IN (\"\"\"+str(DB_str)+\"\"\")"
      ],
      "execution_count": null,
      "outputs": []
    },
    {
      "cell_type": "code",
      "metadata": {
        "id": "BxBFQ11gvFAq"
      },
      "source": [
        "select_movies_query = \"\"\"\n",
        "SELECT gt\n",
        "FROM agg.daily_moves\n",
        "\n",
        "limit 100\n",
        "\"\"\"\n",
        "pdf = ph.read_clickhouse(select_movies_query,connection=connection)\n",
        "pdf.head()\n"
      ],
      "execution_count": null,
      "outputs": []
    },
    {
      "cell_type": "code",
      "metadata": {
        "id": "qxeovYMjvFAq"
      },
      "source": [
        "select_movies_query = \"SHOW TABLES\"\n",
        "pdf = ph.read_clickhouse(select_movies_query,connection=connection)\n",
        "pdf.head()\n",
        "\n"
      ],
      "execution_count": null,
      "outputs": []
    },
    {
      "cell_type": "code",
      "metadata": {
        "id": "zigAqsLEvFAq"
      },
      "source": [
        "#python -m pip install\n",
        "pip install upgrade pip\n",
        "#user numpy scipy matplotlib ipython jupyter pandas sympy nose\n",
        "#pip install scipy\n",
        "#import scipy.stats as st"
      ],
      "execution_count": null,
      "outputs": []
    },
    {
      "cell_type": "code",
      "metadata": {
        "id": "3m6C9k8PvFAr"
      },
      "source": [
        "!pip list -o"
      ],
      "execution_count": null,
      "outputs": []
    },
    {
      "cell_type": "code",
      "metadata": {
        "id": "eRVqxrfovFAr"
      },
      "source": [
        "pip install scipy"
      ],
      "execution_count": null,
      "outputs": []
    },
    {
      "cell_type": "code",
      "metadata": {
        "id": "l82TOTxJvFAr"
      },
      "source": [
        "pip install -U pip"
      ],
      "execution_count": null,
      "outputs": []
    },
    {
      "cell_type": "markdown",
      "metadata": {
        "id": "9ciW1HwIvFAs"
      },
      "source": [
        "## Установка компонент"
      ]
    },
    {
      "cell_type": "code",
      "metadata": {
        "id": "KedncVgvvFAs",
        "outputId": "ef2ee378-4ed7-49d8-b240-e74b6c514285"
      },
      "source": [
        "pip install xlrd"
      ],
      "execution_count": null,
      "outputs": [
        {
          "name": "stdout",
          "output_type": "stream",
          "text": [
            "Defaulting to user installation because normal site-packages is not writeable\n",
            "Requirement already satisfied: xlrd in ./.local/lib/python3.6/site-packages (2.0.1)\n",
            "\u001b[33mWARNING: You are using pip version 21.3; however, version 21.3.1 is available.\n",
            "You should consider upgrading via the '/usr/bin/python3 -m pip install --upgrade pip' command.\u001b[0m\n",
            "Note: you may need to restart the kernel to use updated packages.\n"
          ]
        }
      ]
    },
    {
      "cell_type": "code",
      "metadata": {
        "id": "iFeRmUlTvFAs",
        "outputId": "92949331-aaaf-422f-ed2f-2d3d87eadf0f"
      },
      "source": [
        "pip install matplotlib"
      ],
      "execution_count": null,
      "outputs": [
        {
          "name": "stdout",
          "output_type": "stream",
          "text": [
            "Defaulting to user installation because normal site-packages is not writeable\n",
            "Requirement already satisfied: matplotlib in ./.local/lib/python3.6/site-packages (3.3.4)\n",
            "Requirement already satisfied: pyparsing!=2.0.4,!=2.1.2,!=2.1.6,>=2.0.3 in ./.local/lib/python3.6/site-packages (from matplotlib) (2.4.7)\n",
            "Requirement already satisfied: cycler>=0.10 in ./.local/lib/python3.6/site-packages (from matplotlib) (0.10.0)\n",
            "Requirement already satisfied: kiwisolver>=1.0.1 in ./.local/lib/python3.6/site-packages (from matplotlib) (1.3.1)\n",
            "Requirement already satisfied: python-dateutil>=2.1 in ./.local/lib/python3.6/site-packages (from matplotlib) (2.8.2)\n",
            "Requirement already satisfied: pillow>=6.2.0 in ./.local/lib/python3.6/site-packages (from matplotlib) (8.4.0)\n",
            "Requirement already satisfied: numpy>=1.15 in ./.local/lib/python3.6/site-packages (from matplotlib) (1.19.5)\n",
            "Requirement already satisfied: six in ./.local/lib/python3.6/site-packages (from cycler>=0.10->matplotlib) (1.16.0)\n",
            "\u001b[33mWARNING: You are using pip version 21.3; however, version 21.3.1 is available.\n",
            "You should consider upgrading via the '/usr/bin/python3 -m pip install --upgrade pip' command.\u001b[0m\n",
            "Note: you may need to restart the kernel to use updated packages.\n"
          ]
        }
      ]
    },
    {
      "cell_type": "code",
      "metadata": {
        "id": "jEhaUuFZvFAt",
        "outputId": "4ba763cd-f954-4894-903d-723260524a67"
      },
      "source": [
        "pip install openpyxl"
      ],
      "execution_count": null,
      "outputs": [
        {
          "name": "stdout",
          "output_type": "stream",
          "text": [
            "Defaulting to user installation because normal site-packages is not writeable\n",
            "Requirement already satisfied: openpyxl in ./.local/lib/python3.6/site-packages (3.0.9)\n",
            "Requirement already satisfied: et-xmlfile in ./.local/lib/python3.6/site-packages (from openpyxl) (1.1.0)\n",
            "\u001b[33mWARNING: You are using pip version 21.3; however, version 21.3.1 is available.\n",
            "You should consider upgrading via the '/usr/bin/python3 -m pip install --upgrade pip' command.\u001b[0m\n",
            "Note: you may need to restart the kernel to use updated packages.\n"
          ]
        }
      ]
    },
    {
      "cell_type": "code",
      "metadata": {
        "id": "Khxv-aFAEhSQ"
      },
      "source": [
        "import pandas as pd\n",
        "import numpy as np"
      ],
      "execution_count": null,
      "outputs": []
    },
    {
      "cell_type": "markdown",
      "metadata": {
        "id": "MqvDz-LmvFAt"
      },
      "source": [
        "select_movies_query = \"\"\"\n",
        "SELECT (i_in) inn, (gt) GTIN,  prid\n",
        "FROM agg.daily_moves \n",
        "\n",
        "limit 100\n",
        "\"\"\"\n",
        "pdf = ph.read_clickhouse(select_movies_query,connection=connection)\n",
        "pdf.head()\n",
        "\n",
        "\n",
        "\n",
        "\n"
      ]
    },
    {
      "cell_type": "markdown",
      "metadata": {
        "id": "xGWc286kvFAw"
      },
      "source": [
        "## Глобальне процедуры:"
      ]
    },
    {
      "cell_type": "code",
      "metadata": {
        "id": "XPyx6yGBvFAw"
      },
      "source": [
        "import pandahouse as ph\n",
        "\n",
        "def glGistogram(Tab_BN, Tab_SNG1, Tab_SNG2, Tab_SNG3, Tab_SNG4, TAB, Title, Axes):\n",
        "    # Выводит: гисторгамма распределений по 4 группам и статистики \n",
        "    import scipy.stats as st\n",
        "    import matplotlib.pyplot as plt \n",
        "    import scipy.stats as st\n",
        "    \n",
        "    plt.figure(figsize=(10, 10))\n",
        "\n",
        "    x = Tab_BN['perc']    #распределение без нарушений\n",
        "    \n",
        "    q25, q75 = np.percentile(x,[.25,.75])\n",
        "    bin_width = 2*(q75 - q25)*len(x)**(-1/3)\n",
        "   \n",
        "    bins = round((x.max() - x.min())/bin_width)\n",
        "    print(\"Freedman–Diaconis number of bins:\", bins)\n",
        "    bins = 69\n",
        "    plt.hist(x, density=True, bins=bins, label=\"Распределние УОТ без нарушений\" )  #Распредение вероятности (S под кривой = 1)\n",
        "\n",
        "    mn, mx = plt.xlim()\n",
        "    plt.xlim(mn, mx)\n",
        "    kde_xs = np.linspace(mn, mx, 300)\n",
        " \n",
        "    kde = st.gaussian_kde(Tab_SNG1['perc'])\n",
        "    plt.plot(kde_xs, kde.pdf(kde_xs), label=\"Профиль УОТ с нарушениями Гр.1\")\n",
        "\n",
        "    mn, mx = plt.xlim()\n",
        "    plt.xlim(mn, mx)\n",
        "    kde_xs = np.linspace(mn, mx, 300)\n",
        "    kde = st.gaussian_kde(Tab_SNG2['perc'])\n",
        "    plt.plot(kde_xs, kde.pdf(kde_xs), label=\"Профиль УОТ с нарушениями Гр.2\")\n",
        "\n",
        "    mn, mx = plt.xlim()\n",
        "    plt.xlim(mn, mx)\n",
        "    kde_xs = np.linspace(mn, mx, 300)\n",
        "    kde = st.gaussian_kde(Tab_SNG3['perc'])\n",
        "    plt.plot(kde_xs, kde.pdf(kde_xs), label=\"Профиль УОТ с нарушениями Гр.3\", color = 'lightblue')\n",
        "\n",
        "    mn, mx = plt.xlim()\n",
        "    plt.xlim(mn, mx)\n",
        "    kde_xs = np.linspace(mn, mx, 300)\n",
        "    #kde = st.gaussian_kde(df_sn['avg_day'])\n",
        "    kde = st.gaussian_kde(Tab_SNG4['perc'])\n",
        "    plt.plot(kde_xs, kde.pdf(kde_xs), label=\"Профиль УОТ с нарушениями Гр.4\", color = 'black')\n",
        "\n",
        "    mn, mx = plt.xlim()\n",
        "    plt.xlim(mn, mx)\n",
        "    kde_xs = np.linspace(mn, mx, 300)\n",
        "    kde = st.gaussian_kde(Tab_BN['perc'])\n",
        "    plt.plot(kde_xs, kde.pdf(kde_xs), label=\"Профиль УОТ без нарушений\", color = 'red')\n",
        "\n",
        "    plt.legend(loc=\"upper left\")\n",
        "    plt.ylabel('Probability')\n",
        "    plt.xlabel(Axes)\n",
        "    plt.title(Title);\n",
        "    \n",
        "    def glPearson(TABi):\n",
        "        #Расчет коэф. Пирсона\n",
        "        X = TAB['perc']\n",
        "        Y = TAB['Y']\n",
        "        n = len(X)\n",
        "        miu_x = sum(X) / n\n",
        "        miu_y = sum(Y) / n\n",
        "        stdev_x = (sum([(i - miu_x)**2 for i in X]) / n)**0.5\n",
        "        stdev_y = (sum([(i - miu_y)**2 for i in Y]) / n)**0.5\n",
        "        covariance = sum([(X[i] - miu_x) * (Y[i] -miu_y) for i in range(n)])\n",
        "        pearson_coefficient = covariance / (n * stdev_x * stdev_y)\n",
        "        #print(\"Коэффициент Пирсона\", round(pearson_coefficient, 3))\n",
        "\n",
        "        return pearson_coefficient\n",
        "\n",
        "    #Вывод описательных статистик\n",
        "    DF_BN = TAB.loc[TAB['Y'] == 0]  #DF без нарушений\n",
        "    numbers = DF_BN['perc']\n",
        "\n",
        "    print(\"Описательные статистики для DF без нарушений:\")\n",
        "    print(\"Среднее значение:\", round(np.mean(numbers),3))\n",
        "    print(\"Медиана:\", round(np.median(numbers),3))\n",
        "    #print(\"дисперсия\", statistics.pvariance(numbers, mu=None))\n",
        "    print(\"Standard_Deviation\", round(np.std(numbers),3))\n",
        "    print(\"Коэффициент Пирсона\", round(glPearson(TAB), 3))\n",
        "    \n",
        "    \n",
        "def glDBF_to_str(DB):   \n",
        "    DB_str = \"\"  \n",
        "    for i in range(len(DB)):         # len(A) - возвращает количество строк в матрице А\n",
        "         for j in range(len(DB[i])):  # len(A[i]) - возвращает количество элементов в строке i\n",
        "       \n",
        "            #DB_str = \"\\u0027\"+str(DB[i][j])+\"\\u0027\"+\",\" + DB_str\n",
        "            DB_str = DB_str + \"\\u0027\"+str(DB[i][j])+\"\\u0027\"\n",
        "            if i != len(DB)-1: DB_str = DB_str +\",\"\n",
        "    return(DB_str)\n",
        "\n",
        "def glToExcel(path,DB):\n",
        "    df = pd.DataFrame(DB)\n",
        "    df.to_excel(path)\n",
        "\n",
        "def gldfConcat(Tab_BN,Tab_SNG1,Tab_SNG2,Tab_SNG3,Tab_SNG4):\n",
        "    #Вход: группы УОТ\n",
        "    #Выход: TAB с конкатенцией\n",
        "    Tab_SNG1['Y'] = 1\n",
        "    Tab_SNG2['Y'] = 1\n",
        "    Tab_SNG3['Y'] = 1\n",
        "    Tab_SNG4['Y'] = 1\n",
        "    Tab_BN['Y'] = 0\n",
        "    #TAB = pd.concat([Tab_SNG1, Tab_SNG4, Tab_BN],ignore_index=True, keys=['df_sn_Y', 'df_bn_Y'])\n",
        "    #TAB = pd.concat([Tab_SNG1, Tab_SNG4, Tab_BN],ignore_index=True) #, keys=['df_sn_Y', 'df_bn_Y'])\n",
        "    #TAB = pd.concat([Tab_SNG1, Tab_SNG2, Tab_SNG3, Tab_SNG4, Tab_BN],ignore_index=True)\n",
        "    TAB = pd.concat([Tab_SNG1, Tab_SNG2, Tab_SNG3, Tab_SNG4, Tab_BN],ignore_index=True)\n",
        "    return TAB\n",
        "\n",
        "def glLoaderSUN(path,sheet_name, Mi, Mj ,N=1):\n",
        "   # Вход: Mi, Mj - интервал строк листа ексель-файла\n",
        "   # Выход: DB_str - строка занчений выбранного интервала строк с ИНН выбранного листа эксель-файла\n",
        "   \n",
        "    DB = pd.read_excel(path, sheet_name = sheet_name)\n",
        "    \n",
        "    DB = DB.iloc[Mi:Mj, 0:N]\n",
        "    DB = np.array(DB)\n",
        "    DB_str = \"\"\n",
        "    #j = 2\n",
        "\n",
        "    for i in range(len(DB)):         # len(A) - возвращает количество строк в матрице А\n",
        "         for j in range(len(DB[i])):  # len(A[i]) - возвращает количество элементов в строке i\n",
        "       \n",
        "            #DB_str = \"\\u0027\"+str(DB[i][j])+\"\\u0027\"+\",\" + DB_str\n",
        "            DB_str = DB_str + \"\\u0027\"+str(DB[i][j])+\"\\u0027\"\n",
        "            if i != len(DB)-1: DB_str = DB_str +\",\"\n",
        "                  \n",
        "    return DB_str"
      ],
      "execution_count": null,
      "outputs": []
    },
    {
      "cell_type": "markdown",
      "metadata": {
        "id": "6Nc0G4HYvFAx"
      },
      "source": [
        "# Нарушение №2. Cнижение объема ежемесячной закупки товаров в сравнении со средним объемом закупки\n",
        "### - Приход в разрезе Месяц, ИНН, GTIN   - Расход в разрезе Месяц, ИНН, GTIN  * не включаия операции эмиссии/нанесения"
      ]
    },
    {
      "cell_type": "code",
      "metadata": {
        "id": "EVZvZUs9vFAx"
      },
      "source": [
        "#Снижение объема ежемесячной закупки товаров в сравнении со средним объемом закупки\n",
        "#Показатели для расчета\n",
        "\n",
        "# - Приход в разрезе Месяц, ИНН, GTIN\n",
        "# - Расход в разрезе Месяц, ИНН, GTIN\n",
        "#* не включая операции эмиссии/нанесения        (добавить условие 11.10.21)\n",
        "#и опт, и розница (скорее всего актуальней для розницы), возможно следует исключить торговые дома крупных производителей \n",
        "\n",
        "#Условия для расчета\n",
        "\n",
        "#КМ в статусе >= \"В обороте\", эмитированные после 01.01.2021\n",
        "#1). agg.daily_moves: dm.dt >= toDate('2021-01-01')       (Агрегирвоанная информация по движению кодов маркировки)\n",
        "# i_in = ИНН,\n",
        "    #2). agg.DAILY_SP_SALES                                   (Витрина по количеству продаж в разрезе точек)   \n",
        "#3). agg.mv_monthly_gt_sales - не используем\n",
        "\n",
        "# ИНН УОТ с нарушениями: Отклонения выявленные на событиях мая и июня 2021 года по табачной продукции 2-ух производителей.\n",
        "# Убрать Петру (крупнейшие фабрики).   2.Убрать прочие товарные группы кроме табака"
      ],
      "execution_count": null,
      "outputs": []
    },
    {
      "cell_type": "markdown",
      "metadata": {
        "id": "K8rb2fEsvFAy"
      },
      "source": [
        "## Загрузка данных из УОТ СУН .xlsx"
      ]
    },
    {
      "cell_type": "code",
      "metadata": {
        "id": "hKTMFafnvFAy"
      },
      "source": [
        "def LoaderSUN(path,sheet_name, Mi, Mj ,N=1):\n",
        "   # Вход: Mi, Mj - интервал строк листа ексель-файла\n",
        "   # Выход: DB_str - строка занчений выбранного интервала строк с ИНН выбранного листа эксель-файла\n",
        "   \n",
        "    DB = pd.read_excel(path, sheet_name = sheet_name)\n",
        "    \n",
        "    DB = DB.iloc[Mi:Mj, 0:N]\n",
        "    DB = np.array(DB)\n",
        "    DB_str = \"\"\n",
        "\n",
        "    for i in range(len(DB)):         # len(A) - возвращает количество строк в матрице А\n",
        "         for j in range(len(DB[i])):  # len(A[i]) - возвращает количество элементов в строке i\n",
        "      \n",
        "            DB_str = DB_str + \"\\u0027\"+str(DB[i][j])+\"\\u0027\"\n",
        "            if i != len(DB)-1: DB_str = DB_str +\",\"\n",
        "\n",
        "    return DB_str\n",
        "\n",
        "path = '1.1 ИНН УОТ и количество отклонений.xls'\n",
        "sheet_name = '1.Цена продажи > МРЦ'\n",
        "Inn_SNG1_str_p1 = LoaderSUN(path,sheet_name,Mi=0, Mj=100,N=1)\n",
        "Inn_SNG1_str_p2 = LoaderSUN(path,sheet_name,Mi=101, Mj=200,N=1)\n",
        "Inn_SNG1_str_p3 = LoaderSUN(path,sheet_name,Mi=201, Mj=300,N=1)\n",
        "\n",
        "\n",
        "path = '1.1 ИНН УОТ и количество отклонений.xls'\n",
        "sheet_name = '2.Цена продажи < 0,75 x МРЦ'\n",
        "#print(LoaderDB(path,sheet_name,Mi=0, Mj=3,N=1))\n",
        "Inn_SNG2_str_p1 = LoaderSUN(path,sheet_name,Mi=0, Mj=100,N=1)\n",
        "Inn_SNG2_str_p2 = LoaderSUN(path,sheet_name,Mi=101, Mj=200,N=1)\n",
        "Inn_SNG2_str_p3 = LoaderSUN(path,sheet_name,Mi=201, Mj=300,N=1)\n",
        "\n",
        "path = '1.1 ИНН УОТ и количество отклонений.xls'\n",
        "sheet_name = '3.Цена продажи < ЕМЦ'\n",
        "#print(LoaderDB(path,sheet_name,Mi=0, Mj=3,N=1))\n",
        "Inn_SNG3_str_p1 = LoaderSUN(path,sheet_name,Mi=0, Mj=100,N=1)\n",
        "Inn_SNG3_str_p2 = LoaderSUN(path,sheet_name,Mi=101, Mj=200,N=1)\n",
        "Inn_SNG3_str_p3 = LoaderSUN(path,sheet_name,Mi=201, Mj=300,N=1)\n",
        "\n",
        "path = '1.1 ИНН УОТ и количество отклонений.xls'\n",
        "sheet_name = '4.Повторные продажи'\n",
        "#print(LoaderDB(path,sheet_name,Mi=0, Mj=3,N=1))\n",
        "Inn_SNG4_str_p1 = LoaderSUN(path,sheet_name,Mi=0, Mj=100,N=1)\n",
        "Inn_SNG4_str_p2 = LoaderSUN(path,sheet_name,Mi=101, Mj=200,N=1)\n",
        "Inn_SNG4_str_p3 = LoaderSUN(path,sheet_name,Mi=201, Mj=300,N=1)\n",
        "\n",
        "#Далее код БД для получения ИНН без нарушений\n",
        "#не используется  (реализовано 01.11.2021 в Loader_BN() ) \n",
        "def LoaderDB_BN(select_movies_query,connection_old, Inn_SNG1_str_p1, Inn_SNG1_str_p2, Inn_SNG1_str_p3, limit = 200):  # ВСТАВИТЬ ОСТАЛЬНЫЕ ЧАСТИ НАРУШЕНЙИ  (p1, p1, p3, всех пакетов)\n",
        "#загрузка ИНН без нарущений\n",
        "\n",
        "    select_movies_query = \"\"\"\n",
        "    SELECT inn\n",
        "    FROM agg.daily_sp_sales dm\n",
        "    where dt >= toDate('2021-01-01')\n",
        "    and dt <= toDate('2021-03-30')\n",
        "    and inn NOT IN (\"\"\"+str(Inn_SNG1_str_p1)+\"\"\") or inn NOT IN (\"\"\"+str(Inn_SNG1_str_p2)+\"\"\") or inn NOT IN (\"\"\"+str(Inn_SNG1_str_p3)+\"\"\")\n",
        "    --and inn in ('7724490000','3621005430','6202004383')\n",
        "    and pt = 0\n",
        "    --and ds.et <> 3               -- Не остатки\n",
        "    and gt not like '029%'        -- Не остатки\n",
        "    group by inn\n",
        "    having sum(cnt) > 0 \n",
        "    limit 800               \n",
        "    \"\"\"                                         \n",
        "    pdf_1 = ph.read_clickhouse(select_movies_query,connection=connection_old)\n",
        "    return pdf_1\n"
      ],
      "execution_count": null,
      "outputs": []
    },
    {
      "cell_type": "code",
      "metadata": {
        "id": "FXPrZ4YCvFAz"
      },
      "source": [
        "# вход:  DB_BN из excel файла листа с группой нарушений (лист №1)  (\n",
        "# выход: DB_BN_str  - строка ИНН без нарушений \n",
        "\n",
        "def Loader_BN(select_movies_query,connection_old, \n",
        "              Inn_SNG1_str_p1,Inn_SNG1_str_p2, Inn_SNG1_str_p3, \n",
        "              Inn_SNG2_str_p1,Inn_SNG2_str_p2, Inn_SNG2_str_p3,\n",
        "              Inn_SNG4_str_p1,Inn_SNG4_str_p2, Inn_SNG4_str_p3,\n",
        "              limit = 5000):  # ВСТАВИТЬ ОСТАЛЬНЫЕ ЧАСТИ НАРУШЕНЙИ  (p1, p1, p3, всех пакетов)\n",
        "   #загрузка ИНН без нарушений daily_sp_sales\n",
        "    select_movies_query = \"\"\"\n",
        "    SELECT inn\n",
        "    FROM agg.daily_sp_sales dm\n",
        "    left join dict.list_inns li on dm.inn = li.inn\n",
        "    where dt < toDate('2021-08-01') \n",
        "    and dt >= toDate('2021-03-30')\n",
        "    and reg_date < toDate('2020-07-01')\n",
        "    and inn NOT IN (\"\"\"+str(Inn_SNG1_str_p1)+\"\"\") \n",
        "    and inn NOT IN (\"\"\"+str(Inn_SNG1_str_p2)+\"\"\") \n",
        "     and inn NOT IN (\"\"\"+str(Inn_SNG1_str_p3)+\"\"\") \n",
        "     and inn NOT IN (\"\"\"+str(Inn_SNG3_str_p1)+\"\"\") \n",
        "    and inn NOT IN (\"\"\"+str(Inn_SNG3_str_p2)+\"\"\") \n",
        "    and inn NOT IN (\"\"\"+str(Inn_SNG4_str_p1)+\"\"\") \n",
        "    and inn NOT IN (\"\"\"+str(Inn_SNG4_str_p2)+\"\"\") \n",
        "    and inn NOT IN (\"\"\"+str(Inn_SNG4_str_p3)+\"\"\") \n",
        "    and pt = 0\n",
        "    --and ds.et <> 3               -- Не остатки\n",
        "    and gt not like '029%'        -- Не остатки\n",
        "    group by inn\n",
        "    having sum(cnt) > 0 \n",
        "    limit 5000           \n",
        "    \"\"\"                                         \n",
        "    pdf_1 = ph.read_clickhouse(select_movies_query,connection=connection_old)\n",
        "    return pdf_1\n",
        "\n",
        "select_movies_query = \"\"\n",
        "DB_BN = Loader_BN(select_movies_query, connection_old, \n",
        "                  Inn_SNG1_str_p1,Inn_SNG1_str_p2, Inn_SNG1_str_p3, \n",
        "                  Inn_SNG2_str_p1,Inn_SNG2_str_p2, Inn_SNG2_str_p3,\n",
        "                  Inn_SNG4_str_p1,Inn_SNG4_str_p2, Inn_SNG4_str_p3\n",
        "                  ,100)   # ВСТАВИТЬ ОСТАЛЬНЫЕ ЧАСТИ НАРУШЕНЙИ  (p1, p1, p3, всех пакетов)\n",
        "\n",
        "    \n",
        "def DBF_to_str(DB_BN):\n",
        "    DB = DB_BN    \n",
        "    DB_str_BN = \"\"  \n",
        "    for i in range(len(DB)):         # len(A) - возвращает количество строк в матрице А\n",
        "         for j in range(len(DB[i])):  # len(A[i]) - возвращает количество элементов в строке i\n",
        "            DB_str_BN = DB_str_BN + \"\\u0027\"+str(DB[i][j])+\"\\u0027\"\n",
        "            if i != len(DB)-1: DB_str_BN = DB_str_BN +\",\"\n",
        "    return(DB_str_BN)\n",
        "\n",
        "DB_BN_p1 = np.array(DB_BN.iloc[0:100])\n",
        "DB_BN_p2 = np.array(DB_BN.iloc[101:200])\n",
        "DB_BN_p3 = np.array(DB_BN.iloc[201:300])\n",
        "DB_BN_p4 = np.array(DB_BN.iloc[301:400])\n",
        "DB_BN_p5 = np.array(DB_BN.iloc[401:500])\n",
        "DB_BN_p6 = np.array(DB_BN.iloc[501:600])\n",
        "\n",
        "Inn_BN_str_p1 = DBF_to_str(DB_BN_p1) # 'ЭТО ИНН без нарушений'\n",
        "Inn_BN_str_p2 = DBF_to_str(DB_BN_p2) # 'ЭТО ИНН без нарушений'\n",
        "Inn_BN_str_p3 = DBF_to_str(DB_BN_p3) # 'ЭТО ИНН без нарушений'\n",
        "Inn_BN_str_p4 = DBF_to_str(DB_BN_p4)\n",
        "Inn_BN_str_p5 = DBF_to_str(DB_BN_p5)\n",
        "Inn_BN_str_p6 = DBF_to_str(DB_BN_p6)\n"
      ],
      "execution_count": null,
      "outputs": []
    },
    {
      "cell_type": "markdown",
      "metadata": {
        "id": "ZV9tNMmBYT8D"
      },
      "source": [
        "##Розница"
      ]
    },
    {
      "cell_type": "code",
      "metadata": {
        "id": "29wjgPdavFAz",
        "outputId": "f8f1d47c-ea3f-40a2-fee1-e77d06e807c9"
      },
      "source": [
        "#SELECT sum(sp.cnt_attempts +sp.cnt)\n",
        "#    from agg.daily_sp_sales sp\n",
        " #   left join dict.list_gtins g on sp.gt=g.gtin\n",
        " #   where dt='2021-09-19' and pg=3 and pg_nk=3\n",
        "\n",
        "def QueryRetail_2TEST(connection_old, DB_str_p1,  DB_str_p2, DB_str_p3):\n",
        "# 22.09.21: выделено Кол-во розничных продаж по чеку cnt + cnt_attempts\n",
        "# Наличие розничных продаж по чеку cnt + cnt_attempts>0\n",
        "    select_movies_query = \"\"\"\n",
        "             SELECT inn\n",
        "                   , sum(sales) sales_\n",
        "                   , sum(purchase) purchase_\n",
        "                --   , dt \n",
        "                --   , toMonth(dt) \n",
        "                   , floor(avg(sales),1) avg_sales\n",
        "                   , floor(avg(purchase),1) avg_purchase\n",
        "                   , floor( (avg(purchase)-avg(sales))/avg(purchase)*100 ,1) perc\n",
        "                   --, floor( (avg(sales)-avg(purchase))/avg(purchase)*100 ,1) perc\n",
        "                FROM\n",
        "                        (SELECT dm.i_in inn \n",
        "                               , 0 sales\n",
        "                               , sum(dm.c_s) purchase\n",
        "                               , dt\n",
        "                               , toMonth(dt) \n",
        "                        FROM agg.daily_moves dm\n",
        "                        where dt >= toDate('2021-01-01')                                      \n",
        "                            and inn IN (\"\"\"+str(DB_str_p1)+\"\"\") or inn IN (\"\"\"+str(DB_str_p2)+\"\"\") or inn IN (\"\"\"+str(DB_str_p3)+\"\"\")\n",
        "                            and pt = 0 \n",
        "                            and dm.emission_type <> 3    -- Не остатки\n",
        "                            and dm.gt not like '029%'  -- Не остатки\n",
        "                            and product_group = 3\n",
        "                            --and inn IN ('504409346457','463212439404','320302005398', '7724490000')\n",
        "                        group by inn , dt, toMonth(dt)\n",
        "                        having sum(dm.c_s) > 0  \n",
        "                    UNION ALL\n",
        "                        SELECT  ds.inn inn \n",
        "                               --, sum(ds.cnt+ds.cnt_attempts) sales\n",
        "                               , sum(ds.cnt) sales\n",
        "                               , 0 purchase\n",
        "                               , ds.dt dt\n",
        "                               , toMonth(ds.dt)                           \n",
        "                        FROM agg.daily_sp_sales ds\n",
        "                             left join dict.list_gtins g on ds.gt=g.gtin\n",
        "                              where ds.dt >= toDate('2021-01-01') and ds.pg=3 and g.pg_nk=3                                                                                                         \n",
        "                              and inn IN (\"\"\"+str(DB_str_p1)+\"\"\") or inn IN (\"\"\"+str(DB_str_p2)+\"\"\") or inn IN (\"\"\"+str(DB_str_p3)+\"\"\")      \n",
        "                              --and ds.inn IN ('504409346457','463212439404','320302005398', '7724490000')                    \n",
        "                              and ds.pt = 0\n",
        "                              and ds.et <> 3                   -- Не остатки\n",
        "                              and ds.gt not like '029%'        -- Не остатки                            \n",
        "                        group by ds.inn \n",
        "                        , ds.dt\n",
        "                        , toMonth(ds.dt)  \n",
        "                        having sum(ds.cnt) > 0  \n",
        "                        ) p              \n",
        "                group by inn\n",
        "                order by inn   \n",
        "            \"\"\"\n",
        "\n",
        "    pdf_1 = ph.read_clickhouse(select_movies_query,connection=connection_old)\n",
        "    return pdf_1\n",
        "\n",
        "\n",
        "def QueryTEST(connection_old, DB_str_p1, DB_str_p2, DB_str_p3):\n",
        "#В 2.0 отлажен в Jupiter \n",
        "#Без условия по рознице\n",
        "\n",
        "    select_movies_query = \"\"\"\n",
        "              SELECT inn\n",
        "                   , sum(sales) sales_\n",
        "                   , sum(purchase) purchase_\n",
        "                --   , dt \n",
        "                --   , toMonth(dt) \n",
        "                   , floor(avg(sales),1) avg_sales\n",
        "                   , floor(avg(purchase),1) avg_purchase\n",
        "                   , floor( (avg(purchase)-avg(sales))/avg(purchase)*100 ,1) perc\n",
        "                FROM\n",
        "                        (SELECT dm.i_in inn \n",
        "                               , 0 sales\n",
        "                               , sum(dm.c_s) purchase\n",
        "                               , dt\n",
        "                               , toMonth(dt) \n",
        "                        FROM agg.daily_moves dm\n",
        "                        left join dict.list_gtins g on dm.gt=g.gtin\n",
        "                        where dt >= toDate('2021-01-01')                                      \n",
        "                            and inn IN (\"\"\"+str(DB_str_p1)+\"\"\") or inn IN (\"\"\"+str(DB_str_p2)+\"\"\") or inn IN (\"\"\"+str(DB_str_p3)+\"\"\")\n",
        "                            --and ds.pg=3 \n",
        "                            and g.pg_nk=3                    \n",
        "                            and pt = 0 \n",
        "                            and dm.emission_type <> 3    -- Не остатки\n",
        "                            and dm.gt not like '029%'  -- Не остатки\n",
        "                            and product_group = 3\n",
        "                        group by inn , dt, toMonth(dt)\n",
        "                        having sum(dm.c_s) > 0  \n",
        "                    UNION ALL\n",
        "                        SELECT  ds.inn inn \n",
        "                              , sum(ds.cnt) sales\n",
        "                                , 0 purchase\n",
        "                               , ds.dt dt\n",
        "                               , toMonth(ds.dt)                          \n",
        "                        FROM agg.daily_sp_sales ds\n",
        "                        left join dict.list_gtins g on ds.gt=g.gtin  \n",
        "                         where ds.dt >= toDate('2021-01-01') \n",
        "                         and ds.pg=3 and g.pg_nk=3                    \n",
        "                              and inn IN (\"\"\"+str(DB_str_p1)+\"\"\") or inn IN (\"\"\"+str(DB_str_p2)+\"\"\") or inn IN (\"\"\"+str(DB_str_p3)+\"\"\")                          \n",
        "                              and pt = 0\n",
        "                              and ds.et <> 3                   -- Не остатки\n",
        "                              and ds.gt not like '029%'        -- Не остатки\n",
        "                              and pg = 3\n",
        "                        group by ds.inn \n",
        "                        , ds.dt\n",
        "                        , toMonth(ds.dt)  \n",
        "                        having sum(ds.cnt) > 0  \n",
        "                        ) p              \n",
        "                group by inn\n",
        "                order by inn           \n",
        "            \"\"\"\n",
        "\n",
        "    pdf_1 = ph.read_clickhouse(select_movies_query,connection=connection_old)\n",
        "    return pdf_1\n",
        "\n",
        "def QueryRetail(connection_old, DB_str_p1, DB_str_p2, DB_str_p3):\n",
        "#30/09/21 добавлено условие  and i_in!='-' and i_out ='-' and i_out!=prid : для розницы\n",
        "#Отлажена розница\n",
        "\n",
        "    select_movies_query = \"\"\"\n",
        "              SELECT inn\n",
        "                  -- , prid,\n",
        "                  -- pack_type\n",
        "                   , sum(sales) sales_\n",
        "                   , sum(purchase) purchase_\n",
        "                --   , dt \n",
        "                --   , toMonth(dt) \n",
        "                   , floor(avg(sales),1) avg_sales\n",
        "                   , floor(avg(purchase),1) avg_purchase\n",
        "                   , floor( (avg(purchase)-avg(sales))/avg(purchase)*100 ,1) perc\n",
        "                FROM\n",
        "                        (SELECT dm.i_in inn \n",
        "                        , gt\n",
        "                        , prid\n",
        "                        , 0 sales\n",
        "                        , sum(dm.c_s) purchase\n",
        "                        , dt\n",
        "                        , toMonth(dt) \n",
        "                        FROM agg.daily_moves dm\n",
        "                        where dt >= toDate('2021-01-01')                                      \n",
        "                        and inn IN (\"\"\"+str(DB_str_p1)+\"\"\") or inn IN (\"\"\"+str(DB_str_p2)+\"\"\") or inn IN (\"\"\"+str(DB_str_p3)+\"\"\")\n",
        "                       -- and inn IN ('504409346457','463212439404','320302005398', '7724490000')      \n",
        "                            and pt = 0 \n",
        "                            and dm.emission_type <> 3    -- Не остатки\n",
        "                            and dm.gt not like '029%'  -- Не остатки\n",
        "                            and product_group = 3\n",
        "                            and dm.c_s > 0\n",
        "                            and i_in!='-' and i_out ='-' and i_out!=prid\n",
        "                        group by inn , dt, toMonth(dt)\n",
        "                        , gt\n",
        "                        , prid\n",
        "                        --having sum(dm.c_s) > 0  \n",
        "                    UNION ALL\n",
        "                        SELECT  ds.inn inn \n",
        "                        , gt\n",
        "                        , ds.prid\n",
        "                              , sum(ds.cnt + ds.cnt_attempts) sales\n",
        "                                , 0 purchase\n",
        "                               , ds.dt dt\n",
        "                               , toMonth(ds.dt)                          \n",
        "                        FROM agg.daily_sp_sales ds\n",
        "                       -- left join dict.list_gtins g on ds.gt=g.gtin  \n",
        "                         where ds.dt >= toDate('2021-01-01') \n",
        "                         --    and ds.pg=3 and g.pg_nk=3                    \n",
        "                             and inn IN (\"\"\"+str(DB_str_p1)+\"\"\") or inn IN (\"\"\"+str(DB_str_p2)+\"\"\") or inn IN (\"\"\"+str(DB_str_p3)+\"\"\")     \n",
        "                            -- and inn IN ('504409346457','463212439404','320302005398', '7724490000')                          \n",
        "                              and pt = 0\n",
        "                              and ds.et <> 3                   -- Не остатки\n",
        "                              and ds.gt not like '029%'        -- Не остатки\n",
        "                              and pg = 3\n",
        "                              and pg != 12\n",
        "                              and pg != 16\n",
        "                        group by ds.inn \n",
        "                        , gt\n",
        "                         , prid\n",
        "                        , ds.dt\n",
        "                        , toMonth(ds.dt)  \n",
        "                        having sum(ds.cnt) > 0  \n",
        "                        ) p              \n",
        "                 left join dict.list_gtins g on p.gt=g.gtin and p.prid = g.inn\n",
        "                 where g.pg_nk=3\n",
        "                 and g.pack_type = 'pack'\n",
        "                 group by inn                \n",
        "                 order by inn   \n",
        "            \"\"\"\n",
        "\n",
        "    pdf_1 = ph.read_clickhouse(select_movies_query,connection=connection_old)\n",
        "    return pdf_1\n",
        "\n",
        "def QueryWholesaleTEST(connection_old, DB_str_p1, DB_str_p2, DB_str_p3):\n",
        "#Оптовые продажи\n",
        "\n",
        "    select_movies_query = \"\"\"\n",
        "              SELECT inn\n",
        "                  -- , prid,\n",
        "                  -- pack_type\n",
        "                   , sum(sales) sales_\n",
        "                   , sum(purchase) purchase_\n",
        "                    --   , dt \n",
        "                    --   , toMonth(dt) \n",
        "                   , floor(avg(sales),1) avg_sales\n",
        "                   , floor(avg(purchase),1) avg_purchase\n",
        "                   , floor( (avg(purchase)-avg(sales))/avg(purchase)*100 ,1) perc\n",
        "                FROM\n",
        "                        (SELECT dm.i_out inn \n",
        "                        , gt\n",
        "                        , prid\n",
        "                        , 0 sales\n",
        "                        , sum(dm.c_s) purchase\n",
        "                        , dt\n",
        "                        , toMonth(dt) \n",
        "                        FROM agg.daily_moves dm\n",
        "                        where dt >= toDate('2021-01-01')                                      \n",
        "                            and inn IN (\"\"\"+str(DB_str_p1)+\"\"\") or inn IN (\"\"\"+str(DB_str_p2)+\"\"\") or inn IN (\"\"\"+str(DB_str_p3)+\"\"\")\n",
        "                         -- and inn IN ('504409346457','463212439404','320302005398', '7724490000')      \n",
        "                            and pt = 0 \n",
        "                            and dm.emission_type <> 3    -- Не остатки\n",
        "                            and dm.gt not like '029%'  -- Не остатки\n",
        "                            and product_group = 3\n",
        "                            and dm.c_s > 0\n",
        "                            and i_in!='-' and i_out!='-' and i_out!=prid\n",
        "                        group by inn , dt, toMonth(dt)\n",
        "                        , gt\n",
        "                        , prid\n",
        "                        --having sum(dm.c_s) > 0  \n",
        "                    UNION ALL\n",
        "                        SELECT  ds.inn inn \n",
        "                            , gt\n",
        "                            , ds.prid\n",
        "                            , sum(ds.cnt + ds.cnt_attempts) sales\n",
        "                            , 0 purchase\n",
        "                            , ds.dt dt\n",
        "                            , toMonth(ds.dt)                          \n",
        "                        FROM agg.daily_sp_sales ds\n",
        "                         -- left join dict.list_gtins g on ds.gt=g.gtin  \n",
        "                         where ds.dt >= toDate('2021-01-01') \n",
        "                         -- and ds.pg=3 and g.pg_nk=3                    \n",
        "                             and inn IN (\"\"\"+str(DB_str_p1)+\"\"\") or inn IN (\"\"\"+str(DB_str_p2)+\"\"\") or inn IN (\"\"\"+str(DB_str_p3)+\"\"\")     \n",
        "                            -- and inn IN ('504409346457','463212439404','320302005398', '7724490000')                          \n",
        "                              and pt = 0\n",
        "                              and ds.et <> 3                   -- Не остатки\n",
        "                              and ds.gt not like '029%'        -- Не остатки\n",
        "                              and pg = 3\n",
        "                        group by ds.inn \n",
        "                        , gt\n",
        "                         , prid\n",
        "                        , ds.dt\n",
        "                        , toMonth(ds.dt)  \n",
        "                        having sum(ds.cnt) > 0  \n",
        "                        ) p              \n",
        "                 left join dict.list_gtins g on p.gt=g.gtin and p.prid = g.inn --and g.pack_type = 'pack'\n",
        "                 where g.pg_nk=3\n",
        "                 and g.pack_type = 'pack'\n",
        "                 group by inn                \n",
        "                 order by inn   \n",
        "            \"\"\"\n",
        "\n",
        "    pdf_1 = ph.read_clickhouse(select_movies_query,connection=connection_old)\n",
        "    return pdf_1\n",
        "\n",
        "\n",
        "def QueryWholesale(connection_old, DB_str_p1, DB_str_p2, DB_str_p3, flag):\n",
        "#Оптовые продажи\n",
        "   \n",
        "             select_movies_query = \"\"\"\n",
        "             SELECT inn\n",
        "                   , sum(sales) sales_\n",
        "                   , sum(purchase) purchase_\n",
        "                   , floor(avg(sales),1) avg_sales\n",
        "                   , floor(avg(purchase),1) avg_purchase\n",
        "                   , floor( (avg(purchase)-avg(sales))/avg(purchase)*100 ,1) perc\n",
        "                  -- , dt\n",
        "                  -- , toMonth(dt)\n",
        "                 --  , Mn\n",
        "                  FROM\n",
        "                        (SELECT dm.i_out inn \n",
        "                      --  , gt\n",
        "                       -- , prid\n",
        "                        , 0 purchase\n",
        "                        , sum(dm.c_s) sales\n",
        "                       -- , dt\n",
        "                        , toMonth(dt) Mn\n",
        "                        FROM agg.daily_moves dm\n",
        "                        where dt >= toDate('2021-01-01')                                      \n",
        "                      --  and inn IN (\"\"\"+str(DB_str_p1)+\"\"\") or inn IN (\"\"\"+str(DB_str_p2)+\"\"\") or inn IN (\"\"\"+str(DB_str_p3)+\"\"\")\n",
        "                        and inn IN ('504409346457','463212439404','320302005398', '7724490000')      \n",
        "                            and pt = 0 \n",
        "                            and dm.emission_type <> 3    -- Не остатки\n",
        "                            and dm.gt not like '029%'  -- Не остатки\n",
        "                            and product_group = 3\n",
        "                            and dm.c_s > 0\n",
        "                            and i_in!='-' and i_out!='-' and i_out!=prid  -- ИНН исходящий заполнен => оптовая реализация\n",
        "                        group by inn \n",
        "                       -- , dt\n",
        "                        --, toMonth(dt)\n",
        "                        , Mn\n",
        "                       -- , gt\n",
        "                        --, prid\n",
        "                        having sum(dm.c_s) > 0  \n",
        "                    UNION ALL\n",
        "                        SELECT dm_.i_in inn \n",
        "                       -- , gt\n",
        "                       -- , prid\n",
        "                        , sum(dm_.c_s) purchase\n",
        "                        , 0 sales\n",
        "                      --  , dt\n",
        "                        , toMonth(dt) Mn\n",
        "                        FROM agg.daily_moves dm_\n",
        "                        where dt >= toDate('2021-01-01')                                      \n",
        "                        --and inn IN (\"\"\"+str(DB_str_p1)+\"\"\") or inn IN (\"\"\"+str(DB_str_p2)+\"\"\") or inn IN (\"\"\"+str(DB_str_p3)+\"\"\")\n",
        "                          and inn IN ('504409346457','463212439404','320302005398', '7724490000')      \n",
        "                            and pt = 0 \n",
        "                            and dm_.emission_type <> 3    -- Не остатки\n",
        "                            and dm_.gt not like '029%'  -- Не остатки\n",
        "                            and product_group = 3\n",
        "                            and dm_.c_s > 0\n",
        "                            and i_in!='-' and i_out!='-' and i_out!=prid  -- ИНН входящий заполнен => оптовый закуп\n",
        "                        group by inn \n",
        "                         -- , dt,\n",
        "                         -- , toMonth(dt)\n",
        "                        , Mn\n",
        "                        --, gt\n",
        "                        --, prid\n",
        "                        having sum(dm_.c_s) > 0                   \n",
        "                        ) p              \n",
        "                 --left join dict.list_gtins g on p.gt=g.gtin and p.prid = g.inn --and g.pack_type = 'pack'\n",
        "                 --where \n",
        "                 --g.pg_nk=3\n",
        "                 --and g.pack_type = 'pack'\n",
        "                 group by inn \n",
        "                -- , Mn\n",
        "             --    , dt \n",
        "                -- , toMonth(dt)\n",
        "                 order by inn        \n",
        "            \"\"\"\n",
        "             pdf_1 = ph.read_clickhouse(select_movies_query,connection=connection_old)\n",
        "             return pdf_1\n",
        "\n",
        "#Inn_SNG1_str_p1 = '7724490000','3621005430','6202004383'\n",
        "#Inn_SNG1_str_p2 = '0105024217', '0105024217'\n",
        "#Inn_SNG1_str_p3 = '0105024217', '0105024217'\n",
        "\n",
        "#Inn_BN_str_p1 = '7724490000','3621005430','6202004383'\n",
        "#Inn_BN_str_p2 = '0105024217', '0105024217'\n",
        "#Inn_BN_str_p3 = '0105024217', '0105024217'\n",
        "\n",
        "\"\"\"\n",
        "Tab_BN = QueryWholesale(connection_old, Inn_BN_str_p1, Inn_BN_str_p2, Inn_BN_str_p3)\n",
        "Tab_SNG1 = QueryWholesale(connection_old, Inn_SNG1_str_p1, Inn_SNG1_str_p2, Inn_SNG1_str_p3) #+\n",
        "Tab_SNG2 = QueryWholesale(connection_old, Inn_SNG2_str_p1, Inn_SNG2_str_p2, Inn_SNG2_str_p3) #+\n",
        "Tab_SNG3 = QueryWholesale(connection_old, Inn_SNG3_str_p1, Inn_SNG3_str_p2, Inn_SNG3_str_p3)\n",
        "Tab_SNG4 = QueryWholesale(connection_old, Inn_SNG4_str_p1, Inn_SNG4_str_p2, Inn_SNG4_str_p3)\n",
        "\"\"\"\n",
        "\n",
        "Tab_BN   = QueryRetail(connection_old, Inn_BN_str_p1, Inn_BN_str_p2, Inn_BN_str_p3)\n",
        "Tab_SNG1 = QueryRetail(connection_old, Inn_SNG1_str_p1, Inn_SNG1_str_p2, Inn_SNG1_str_p3) #+\n",
        "Tab_SNG2 = QueryRetail(connection_old, Inn_SNG2_str_p1, Inn_SNG2_str_p2, Inn_SNG2_str_p3) #+\n",
        "Tab_SNG3 = QueryRetail(connection_old, Inn_SNG3_str_p1, Inn_SNG3_str_p2, Inn_SNG3_str_p3)\n",
        "Tab_SNG4 = QueryRetail(connection_old, Inn_SNG4_str_p1, Inn_SNG4_str_p2, Inn_SNG4_str_p3)\n",
        "\n",
        "Tab_BN   = Tab_BN.loc[Tab_BN['perc'] != 0]  # Убираем строки с делением на 0\n",
        "Tab_BN   = Tab_BN.loc[Tab_BN['purchase_'] != 0]  # Убираем строки с отсутствием продаж\n",
        "Tab_BN   = Tab_BN.loc[Tab_BN['purchase_'] != 100]  # Убираем строки с отсутствием продаж\n",
        "Tab_SNG1 = Tab_SNG1.loc[Tab_SNG1['purchase_']  != 0]  # Убираем строки с делением на 0\n",
        "Tab_SNG2 = Tab_SNG2.loc[Tab_SNG2['purchase_']   != 0]  # Убираем строки с делением на 0\n",
        "Tab_SNG3 = Tab_SNG3.loc[Tab_SNG3['purchase_']   != 0]  # Убираем строки с делением на 0\n",
        "Tab_SNG4 = Tab_SNG4.loc[Tab_SNG4['purchase_']   != 0]  # Убираем строки с делением на 0\n",
        "\n",
        "\n",
        "TAB = gldfConcat(Tab_BN, Tab_SNG1, Tab_SNG2, Tab_SNG3, Tab_SNG4)\n",
        "\n",
        "glToExcel(\"Download_rozn.xlsx\",TAB)\n",
        "\n",
        "glGistogram(Tab_BN, Tab_SNG1, Tab_SNG2, Tab_SNG3, Tab_SNG4, TAB, \n",
        "            Title = 'Распределение % отклонения разницы среднемесячного закупа и реализации для розницы',\n",
        "            Axes = 'avg(purchase)-avg(sales))/avg(purchase), %')\n"
      ],
      "execution_count": null,
      "outputs": [
        {
          "name": "stdout",
          "output_type": "stream",
          "text": [
            "Freedman–Diaconis number of bins: 31\n",
            "Описательные статистики для DF без нарушений:\n",
            "Среднее значение: 38.232\n",
            "Медиана: 29.4\n",
            "Standard_Deviation 33.321\n",
            "Коэффициент Пирсона -0.022\n"
          ]
        },
        {
          "data": {
            "image/png": "[encoded data removed]",
            "text/plain": [
              "<Figure size 720x720 with 1 Axes>"
            ]
          },
          "metadata": {
            "needs_background": "light"
          },
          "output_type": "display_data"
        }
      ]
    },
    {
      "cell_type": "markdown",
      "metadata": {
        "id": "ID6JW8AxYfWL"
      },
      "source": [
        "## Оптовые продажи"
      ]
    },
    {
      "cell_type": "code",
      "metadata": {
        "id": "3TrxhMx_vFA3"
      },
      "source": [
        "#  ДЛЯ ОПТА\n",
        "# загрузка ИНН без нарущений daily_sp_sales\n",
        "# вход:  DB_BN из excel файла листа с группой нарушений (лист №1)  (\n",
        "# выход: DB_BN_str  - строка ИНН без нарушений \n",
        "\n",
        "\n",
        "def Loader_BN_opt(select_movies_query,connection_old, \n",
        "              Inn_SNG1_str_p1,Inn_SNG1_str_p2, Inn_SNG1_str_p3, \n",
        "              Inn_SNG2_str_p1,Inn_SNG2_str_p2, Inn_SNG2_str_p3,\n",
        "              Inn_SNG4_str_p1,Inn_SNG4_str_p2, Inn_SNG4_str_p3,\n",
        "              limit = 5000):  # ВСТАВИТЬ ОСТАЛЬНЫЕ ЧАСТИ НАРУШЕНЙИ  (p1, p1, p3, всех пакетов)\n",
        "                #загрузка ИНН без нарущений daily_sp_sales\n",
        "   \n",
        "    select_movies_query = \"\"\"\n",
        "                    SELECT dm.i_out inn \n",
        "                        FROM agg.daily_moves dm\n",
        "                        where dt >= toDate('2020-01-01')                                           \n",
        "                            and pt = 0 \n",
        "                            and dm.emission_type <> 3    -- Не остатки\n",
        "                            and dm.gt not like '029%'  -- Не остатки\n",
        "                            and product_group = 3\n",
        "                            and dm.c_s > 0\n",
        "                            and i_in!='-' and i_out!='-' and i_out!=prid  -- ИНН исходящий заполнен => оптовая реализация\n",
        "                             and inn NOT IN (\"\"\"+str(Inn_SNG1_str_p1)+\"\"\") \n",
        "                            and inn NOT IN (\"\"\"+str(Inn_SNG1_str_p2)+\"\"\") \n",
        "                             and inn NOT IN (\"\"\"+str(Inn_SNG1_str_p3)+\"\"\") \n",
        "                             and inn NOT IN (\"\"\"+str(Inn_SNG3_str_p1)+\"\"\")                        \n",
        "                            and inn NOT IN (\"\"\"+str(Inn_SNG4_str_p1)+\"\"\") \n",
        "                          and inn NOT IN (\"\"\"+str(Inn_SNG4_str_p2)+\"\"\") \n",
        "                          and inn NOT IN (\"\"\"+str(Inn_SNG4_str_p3)+\"\"\") \n",
        "                        group by inn \n",
        "                        having sum(dm.c_s) > 0         \n",
        "                       \"\"\"\n",
        "    pdf = ph.read_clickhouse(select_movies_query,connection=connection_old)\n",
        "    return pdf\n",
        "\n",
        "\n",
        "\n",
        "select_movies_query = \"\"\n",
        "DB_BN_opt = Loader_BN_opt(select_movies_query, connection_old, \n",
        "                  Inn_SNG1_str_p1,Inn_SNG1_str_p2, Inn_SNG1_str_p3, \n",
        "                  Inn_SNG2_str_p1,Inn_SNG2_str_p2, Inn_SNG2_str_p3,\n",
        "                  Inn_SNG4_str_p1,Inn_SNG4_str_p2, Inn_SNG4_str_p3,\n",
        "                  100)  \n",
        "\n",
        "def DBF_to_str(DB_BN):\n",
        "    DB = DB_BN    \n",
        "    DB_str_BN = \"\"  \n",
        "    for i in range(len(DB)):         # len(A) - возвращает количество строк в матрице А\n",
        "         for j in range(len(DB[i])):  # len(A[i]) - возвращает количество элементов в строке i\n",
        "       \n",
        "            #DB_str = \"\\u0027\"+str(DB[i][j])+\"\\u0027\"+\",\" + DB_str\n",
        "            DB_str_BN = DB_str_BN + \"\\u0027\"+str(DB[i][j])+\"\\u0027\"\n",
        "            if i != len(DB)-1: DB_str_BN = DB_str_BN +\",\"\n",
        "    return(DB_str_BN)\n",
        "\n",
        "DB_BN_opt_p1 = np.array(DB_BN_opt.iloc[0:100])\n",
        "DB_BN_opt_p2 = np.array(DB_BN_opt.iloc[101:200])\n",
        "DB_BN_opt_p3 = np.array(DB_BN_opt.iloc[201:300])\n",
        "DB_BN_opt_p4 = np.array(DB_BN_opt.iloc[301:400])\n",
        "DB_BN_opt_p5 = np.array(DB_BN_opt.iloc[401:500])\n",
        "DB_BN_opt_p6 = np.array(DB_BN_opt.iloc[501:600])\n",
        "\n",
        "Inn_BN_opt_str_p1 = DBF_to_str(DB_BN_opt_p1) # 'Загрузка ИНН без нарушений'\n",
        "Inn_BN_opt_str_p2 = DBF_to_str(DB_BN_opt_p2) # 'Загрузка ИНН без нарушений'\n",
        "Inn_BN_opt_str_p3 = DBF_to_str(DB_BN_opt_p3) # 'Загрузка ИНН без нарушений'\n",
        "Inn_BN_opt_str_p4 = DBF_to_str(DB_BN_opt_p4)\n",
        "Inn_BN_opt_str_p5 = DBF_to_str(DB_BN_opt_p5)\n",
        "Inn_BN_opt_str_p6 = DBF_to_str(DB_BN_opt_p6)\n"
      ],
      "execution_count": null,
      "outputs": []
    },
    {
      "cell_type": "code",
      "metadata": {
        "id": "n0NNCGKZvFA3",
        "outputId": "3ff56bc6-e807-4b97-f953-3588d9322595"
      },
      "source": [
        "# Расчет оптовых продаж\n",
        "# 1.Делаем запрос agg.daily_moves по условию: i_in!='-' and i_out!='-' and i_out!=prid. На выходе имеем ИНН, которые отгружали оптом\n",
        "# 2.По данным ИНН считаем закуп (daily_moves.cnt) и реализацию (daily_sp_sales.cnt + daily_sp_sales.cnt_attempts).\n",
        "# в п. 2 По данным ИНН реализация считается по чекам (daily_sp_sales.cnt + daily_sp_sales.cnt_attempts) и оптовая (agg.daily_moves).\n",
        "# Оптовый ИНН может передавать другому или продавать по чеку \n",
        "\n",
        "def QueryWholeSalesV_2(connection_old, DB_str_p1, DB_str_p2, DB_str_p3\n",
        "                                     , DB_str_p4, DB_str_p5, DB_str_p6 \n",
        "                                     , flag):\n",
        "#Оптовые продажи\n",
        "# Добавить \n",
        "   \n",
        "    if flag == 2: \n",
        "            \n",
        "             select_movies_query = \"\"\"\n",
        "             SELECT inn\n",
        "                   , sum(sales) sales_\n",
        "                   , sum(purchase) purchase_\n",
        "                   , floor(avg(sales),1) avg_sales\n",
        "                   , floor(avg(purchase),1) avg_purchase\n",
        "                   , floor( (avg(purchase)-avg(sales))/avg(purchase)*100 ,1) perc\n",
        "                  FROM\n",
        "                        (SELECT dm.i_out inn \n",
        "                        , gt\n",
        "                        , prid\n",
        "                        , 0 purchase\n",
        "                        , sum(dm.c_s) sales\n",
        "                        , toMonth(dt) Mn\n",
        "                        FROM agg.daily_moves dm\n",
        "                        where dt >= toDate('2021-01-01')                                      \n",
        "                        and inn IN (\"\"\"+str(DB_str_p1)+\"\"\") or inn IN (\"\"\"+str(DB_str_p2)+\"\"\") or inn IN (\"\"\"+str(DB_str_p3)+\"\"\")\n",
        "                      --  and inn IN ('504409346457','463212439404','320302005398', '7724490000')      \n",
        "                            and pt = 0 \n",
        "                            and dm.emission_type <> 3    -- Не остатки\n",
        "                            and dm.gt not like '029%'  -- Не остатки\n",
        "                            and product_group = 3\n",
        "                            and dm.c_s > 0\n",
        "                            and i_in!='-' and i_out!='-' and i_out!=prid  -- ИНН исходящий заполнен => оптовая реализация\n",
        "                        group by inn \n",
        "                        , Mn\n",
        "                        , gt\n",
        "                        , prid\n",
        "                        having sum(dm.c_s) > 0  \n",
        "                    UNION ALL\n",
        "                        SELECT dm_.i_in inn \n",
        "                        , gt\n",
        "                        , prid\n",
        "                        , sum(dm_.c_s) purchase\n",
        "                        , 0 sales\n",
        "                      --  , dt\n",
        "                        , toMonth(dt) Mn\n",
        "                        FROM agg.daily_moves dm_\n",
        "                        where dt >= toDate('2021-01-01')                                      \n",
        "                        and inn IN (\"\"\"+str(DB_str_p1)+\"\"\") or inn IN (\"\"\"+str(DB_str_p2)+\"\"\") or inn IN (\"\"\"+str(DB_str_p3)+\"\"\")\n",
        "                        --  and inn IN ('504409346457','463212439404','320302005398', '7724490000')      \n",
        "                            and pt = 0 \n",
        "                            and dm_.emission_type <> 3    -- Не остатки\n",
        "                            and dm_.gt not like '029%'  -- Не остатки\n",
        "                            and product_group = 3\n",
        "                            and dm_.c_s > 0\n",
        "                            and i_in!='-' and i_out!='-' and i_out!=prid  -- ИНН входящий заполнен => оптовый закуп\n",
        "                        group by inn \n",
        "                        , Mn\n",
        "                        , gt\n",
        "                        , prid\n",
        "                        having sum(dm_.c_s) > 0                   \n",
        "                        ) p              \n",
        "                 left join dict.list_gtins g on p.gt=g.gtin and p.prid = g.inn --and g.pack_type = 'pack'\n",
        "                 where \n",
        "                 g.pg_nk=3\n",
        "                 and g.pack_type = 'pack'\n",
        "                 group by inn \n",
        "                 order by inn        \n",
        "             \"\"\"\n",
        "             pdf = ph.read_clickhouse(select_movies_query,connection=connection_old)\n",
        "    \n",
        "    if flag == 1:\n",
        "                    #Получаем ИНН,которые имели оптовые продажи\n",
        "                    \n",
        "                    select_movies_query = \"\"\"\n",
        "                    SELECT dm.i_out inn \n",
        "                       -- , gt\n",
        "                       -- , prid\n",
        "                       -- , 0 purchase\n",
        "                       -- , sum(dm.c_s) sales\n",
        "                        --, dt\n",
        "                        --, toMonth(dt) \n",
        "                        FROM agg.daily_moves dm\n",
        "                        where dt >= toDate('2020-01-01')                                      \n",
        "                        and inn IN (\"\"\"+str(DB_str_p1)+\"\"\") or inn IN (\"\"\"+str(DB_str_p2)+\"\"\") or inn IN (\"\"\"+str(DB_str_p3)+\"\"\")\n",
        "                        --  and inn IN ('504409346457','463212439404','320302005398', '7724490000')      \n",
        "                            and pt = 0 \n",
        "                            and dm.emission_type <> 3    -- Не остатки\n",
        "                            and dm.gt not like '029%'  -- Не остатки\n",
        "                            and product_group = 3\n",
        "                            and dm.c_s > 0\n",
        "                            and i_in!='-' and i_out!='-' and i_out!=prid  -- ИНН исходящий заполнен => оптовая реализация\n",
        "                        group by inn \n",
        "                        --, dt, toMonth(dt)\n",
        "                        --, gt\n",
        "                        --, prid\n",
        "                        having sum(dm.c_s) > 0         \n",
        "                        \"\"\"\n",
        "                    pdf = ph.read_clickhouse(select_movies_query,connection=connection_old)  \n",
        "    \n",
        "    if flag == 0:\n",
        "                    #Получаем ИНН,которые имели оптовые продажи - только для BN\n",
        "                    print(\"flag = 1\")\n",
        "                    select_movies_query = \"\"\"\n",
        "                    SELECT dm.i_out inn \n",
        "                       -- , gt\n",
        "                       -- , prid\n",
        "                       -- , 0 purchase\n",
        "                       -- , sum(dm.c_s) sales\n",
        "                        --, dt\n",
        "                        --, toMonth(dt) \n",
        "                        FROM agg.daily_moves dm\n",
        "                        where dt >= toDate('2020-01-01')                                      \n",
        "                        and inn IN (\"\"\"+str(DB_str_p1)+\"\"\") or inn IN (\"\"\"+str(DB_str_p2)+\"\"\") or inn IN (\"\"\"+str(DB_str_p3)+\"\"\")  or inn IN (\"\"\"+str(DB_str_p4)+\"\"\") or inn IN (\"\"\"+str(DB_str_p5)+\"\"\") or inn IN (\"\"\"+str(DB_str_p6)+\"\"\")\n",
        "                        --  and inn IN ('504409346457','463212439404','320302005398', '7724490000')      \n",
        "                            and pt = 0 \n",
        "                            and dm.emission_type <> 3    -- Не остатки\n",
        "                            and dm.gt not like '029%'  -- Не остатки\n",
        "                            and product_group = 3\n",
        "                            and dm.c_s > 0\n",
        "                            and i_in!='-' and i_out!='-' and i_out!=prid  -- ИНН исходящий заполнен => оптовая реализация\n",
        "                        group by inn \n",
        "                        --, dt, toMonth(dt)\n",
        "                        --, gt\n",
        "                        --, prid\n",
        "                        having sum(dm.c_s) > 0         \n",
        "                        \"\"\"\n",
        "                    pdf = ph.read_clickhouse(select_movies_query,connection=connection_old)         \n",
        "    \n",
        "    \n",
        "    #continue             \n",
        "    return pdf\n",
        "\n",
        "\n",
        "Inn_SNG1_opt = QueryWholeSalesV_2(connection_old, Inn_SNG1_str_p1, Inn_SNG1_str_p2, Inn_SNG1_str_p3, \n",
        "                                  Inn_SNG1_str_p1, Inn_SNG1_str_p2, Inn_SNG1_str_p3, 1)  \n",
        "Inn_SNG2_opt = QueryWholeSalesV_2(connection_old, Inn_SNG2_str_p1, Inn_SNG2_str_p2, Inn_SNG2_str_p3, \n",
        "                                  Inn_SNG2_str_p1, Inn_SNG2_str_p2, Inn_SNG2_str_p3, 1)  \n",
        "Inn_SNG3_opt = QueryWholeSalesV_2(connection_old, Inn_SNG3_str_p1, Inn_SNG3_str_p2, Inn_SNG3_str_p3,\n",
        "                                  Inn_SNG3_str_p1, Inn_SNG3_str_p2, Inn_SNG3_str_p3, 1)  \n",
        "Inn_SNG4_opt = QueryWholeSalesV_2(connection_old, Inn_SNG4_str_p1, Inn_SNG4_str_p2, Inn_SNG4_str_p3,\n",
        "                                  Inn_SNG4_str_p1, Inn_SNG4_str_p2, Inn_SNG4_str_p3, 1)  \n",
        "Inn_BN_opt   = QueryWholeSalesV_2(connection_old, Inn_BN_opt_str_p1, Inn_BN_opt_str_p2, Inn_BN_opt_str_p3,\n",
        "                                Inn_BN_opt_str_p4, Inn_BN_opt_str_p5, Inn_BN_opt_str_p6, 0)  \n",
        "\n",
        "\"\"\"\n",
        "Inn_BN_str_p1 = DBF_to_str(DB_BN_p1) # 'ЭТО ИНН без нарушений'\n",
        "Inn_BN_str_p2 = DBF_to_str(DB_BN_p2) # 'ЭТО ИНН без нарушений'\n",
        "Inn_BN_str_p3 = DBF_to_str(DB_BN_p3) # 'ЭТО ИНН без нарушений'\n",
        "Inn_BN_str_p4 = DBF_to_str(DB_BN_p4)\n",
        "Inn_BN_str_p5 = DBF_to_str(DB_BN_p5)\n",
        "Inn_BN_str_p6 = DBF_to_str(DB_BN_p6)\n",
        "\"\"\"\n",
        "\n",
        "\n",
        "# Выделяем ИНН, которые имели продажи в опте:\n",
        "Inn_SNG1_opt_p1 = np.array(Inn_SNG1_opt.iloc[0:100])\n",
        "Inn_SNG1_opt_p2 = np.array(Inn_SNG1_opt.iloc[101:200])\n",
        "Inn_SNG1_opt_p3 = np.array(Inn_SNG1_opt.iloc[201:300])\n",
        "Inn_SNG1_opt_str_p1 = glDBF_to_str(Inn_SNG1_opt_p1) \n",
        "Inn_SNG1_opt_str_p2 = glDBF_to_str(Inn_SNG1_opt_p2) \n",
        "Inn_SNG1_opt_str_p3 = glDBF_to_str(Inn_SNG1_opt_p3) \n",
        "\n",
        "Inn_SNG2_opt_p1 = np.array(Inn_SNG2_opt.iloc[0:100])\n",
        "Inn_SNG2_opt_p2 = np.array(Inn_SNG2_opt.iloc[101:200])\n",
        "Inn_SNG2_opt_p3 = np.array(Inn_SNG2_opt.iloc[201:300])\n",
        "Inn_SNG2_opt_str_p1 = glDBF_to_str(Inn_SNG2_opt_p1) \n",
        "Inn_SNG2_opt_str_p2 = glDBF_to_str(Inn_SNG2_opt_p2) \n",
        "Inn_SNG2_opt_str_p3 = glDBF_to_str(Inn_SNG2_opt_p3) \n",
        "\n",
        "Inn_SNG3_opt_p1 = np.array(Inn_SNG3_opt.iloc[0:100])\n",
        "Inn_SNG3_opt_p2 = np.array(Inn_SNG3_opt.iloc[101:200])\n",
        "Inn_SNG3_opt_p3 = np.array(Inn_SNG3_opt.iloc[201:300])\n",
        "Inn_SNG3_opt_str_p1 = glDBF_to_str(Inn_SNG3_opt_p1) \n",
        "Inn_SNG3_opt_str_p2 = glDBF_to_str(Inn_SNG3_opt_p2) \n",
        "Inn_SNG3_opt_str_p3 = glDBF_to_str(Inn_SNG3_opt_p3) \n",
        "\n",
        "Inn_SNG4_opt_p1 = np.array(Inn_SNG4_opt.iloc[0:100])\n",
        "Inn_SNG4_opt_p2 = np.array(Inn_SNG4_opt.iloc[101:200])\n",
        "Inn_SNG4_opt_p3 = np.array(Inn_SNG4_opt.iloc[201:300])\n",
        "Inn_SNG4_opt_str_p1 = glDBF_to_str(Inn_SNG4_opt_p1) \n",
        "Inn_SNG4_opt_str_p2 = glDBF_to_str(Inn_SNG4_opt_p2) \n",
        "Inn_SNG4_opt_str_p3 = glDBF_to_str(Inn_SNG4_opt_p3) \n",
        "\n",
        "Inn_BN_opt_p1 = np.array(Inn_BN_opt.iloc[0:100])\n",
        "Inn_BN_opt_p2 = np.array(Inn_BN_opt.iloc[101:200])\n",
        "Inn_BN_opt_p3 = np.array(Inn_BN_opt.iloc[201:300])\n",
        "Inn_BN_opt_str_p1 = glDBF_to_str(Inn_BN_opt_p1) \n",
        "Inn_BN_opt_str_p2 = glDBF_to_str(Inn_BN_opt_p2) \n",
        "Inn_BN_opt_str_p3 = glDBF_to_str(Inn_BN_opt_p3) \n",
        "\n",
        "\"\"\"\n",
        "Tab_BN_opt = QueryRetail(connection_old, Inn_BN_str_p1, Inn_BN_str_p2, Inn_BN_str_p3)\n",
        "Tab_SNG1_opt = QueryRetail(connection_old, Inn_SNG1_str_p1, Inn_SNG1_str_p2, Inn_SNG1_str_p3) \n",
        "Tab_SNG2_opt = QueryRetail(connection_old, Inn_SNG2_str_p1, Inn_SNG2_str_p2, Inn_SNG2_str_p3) \n",
        "Tab_SNG3_opt = QueryRetail(connection_old, Inn_SNG3_str_p1, Inn_SNG3_str_p2, Inn_SNG3_str_p3)\n",
        "Tab_SNG4_opt = QueryRetail(connection_old, Inn_SNG4_str_p1, Inn_SNG4_str_p2, Inn_SNG4_str_p3)\n",
        "\"\"\"\n",
        "Tab_BN_opt   = QueryWholeSalesV_2(connection_old, Inn_BN_opt_str_p1, Inn_BN_opt_str_p1, Inn_BN_opt_str_p1, Inn_BN_opt_str_p1, Inn_BN_opt_str_p1, Inn_BN_opt_str_p1, 2)  \n",
        "Tab_SNG1_opt = QueryWholeSalesV_2(connection_old, Inn_SNG1_opt_str_p1, Inn_SNG1_opt_str_p1, Inn_SNG1_opt_str_p1,Inn_SNG1_opt_str_p1, Inn_SNG1_opt_str_p1, Inn_SNG1_opt_str_p1, 2)  \n",
        "Tab_SNG2_opt = QueryWholeSalesV_2(connection_old, Inn_SNG2_opt_str_p1, Inn_SNG2_opt_str_p1, Inn_SNG2_opt_str_p1, Inn_SNG2_opt_str_p1, Inn_SNG2_opt_str_p1, Inn_SNG2_opt_str_p1, 2)  \n",
        "Tab_SNG3_opt = QueryWholeSalesV_2(connection_old, Inn_SNG3_opt_str_p1, Inn_SNG3_opt_str_p1, Inn_SNG3_opt_str_p1,Inn_SNG3_opt_str_p1, Inn_SNG3_opt_str_p1, Inn_SNG3_opt_str_p1, 2)  \n",
        "Tab_SNG4_opt = QueryWholeSalesV_2(connection_old, Inn_SNG4_opt_str_p1, Inn_SNG4_opt_str_p1, Inn_SNG4_opt_str_p1,Inn_SNG4_opt_str_p1, Inn_SNG4_opt_str_p1, Inn_SNG4_opt_str_p1, 2)  \n",
        "\n",
        "\n",
        "Tab_BN_opt = Tab_BN_opt.loc[Tab_BN_opt['perc'] != 0]  # Убираем строки с делением на 0\n",
        "Tab_BN_opt = Tab_BN_opt.loc[Tab_BN_opt['perc'] != 100]  # Убираем строки с отсутствием продаж\n",
        "Tab_SNG1_opt = Tab_SNG1_opt.loc[Tab_SNG1_opt['perc']  != 0]  # Убираем строки с делением на 0\n",
        "Tab_SNG2_opt = Tab_SNG2_opt.loc[Tab_SNG2_opt['perc']   != 0]  # Убираем строки с делением на 0\n",
        "Tab_SNG3_opt = Tab_SNG3_opt.loc[Tab_SNG3_opt['perc']   != 0]  # Убираем строки с делением на 0\n",
        "Tab_SNG4_opt = Tab_SNG4_opt.loc[Tab_SNG4_opt['perc']   != 0]  # Убираем строки с делением на 0\n",
        "Tab_BN_opt = Tab_BN_opt.loc[Tab_BN_opt['purchase_']   != 0]  # Убираем строки с делением на 0\n",
        "\n",
        "\n",
        "TAB_opt = gldfConcat(Tab_BN_opt, Tab_SNG1_opt, Tab_SNG2_opt, Tab_SNG3_opt, Tab_SNG4_opt)\n",
        "\n",
        "glToExcel(\"Download_opt.xlsx\",TAB_opt)\n",
        "\n",
        "glGistogram(Tab_BN_opt, Tab_SNG1_opt, Tab_SNG2_opt, Tab_SNG3_opt, Tab_SNG4_opt, TAB_opt, \n",
        "            Title = 'Распределение % отклонения разницы среднемесячного закупа и реализации для опта',\n",
        "            Axes = 'avg(purchase)-avg(sales))/avg(purchase), %')\n",
        "    \n"
      ],
      "execution_count": null,
      "outputs": [
        {
          "name": "stdout",
          "output_type": "stream",
          "text": [
            "flag = 1\n",
            "Freedman–Diaconis number of bins: 9\n",
            "Описательные статистики для DF без нарушений:\n",
            "Среднее значение: 64.196\n",
            "Медиана: 90.6\n",
            "Standard_Deviation 70.706\n",
            "Коэффициент Пирсона 0.018\n"
          ]
        },
        {
          "data": {
            "image/png": "[encoded data removed]",
            "text/plain": [
              "<Figure size 720x720 with 1 Axes>"
            ]
          },
          "metadata": {
            "needs_background": "light"
          },
          "output_type": "display_data"
        }
      ]
    },
    {
      "cell_type": "markdown",
      "metadata": {
        "id": "IGFLiMNFvFA6"
      },
      "source": [
        "# Фактор 2.1 Превышение максимального срока оборота товаров УОТа. \n",
        "## (в работе: из расчета исключается период приостановки деятельности ИП). \n",
        "\n"
      ]
    },
    {
      "cell_type": "code",
      "metadata": {
        "scrolled": true,
        "id": "HW67Rf4rvFA6"
      },
      "source": [
        "# Вход:\n",
        "# Выход:\n",
        "\n",
        "def QueryTurn(connection, DB_str_p1, DB_str_p2, DB_str_p3):\n",
        "    # рабочий запрос\n",
        "    select_movies_query = \"\"\"          \n",
        "            SELECT avg_day perc\n",
        "                , (sender_inn) inn\n",
        "             FROM agg.agg_codes_turnover ct\n",
        "             left join dict.list_gtins g on ct.gtin=g.gtin\n",
        "              where 1=1\n",
        "               and inn IN (\"\"\"+str(DB_str_p1)+\"\"\") or inn IN (\"\"\"+str(DB_str_p2)+\"\"\") or inn IN (\"\"\"+str(DB_str_p3)+\"\"\")\n",
        "                  and ct.oper_date >= toDate('2021-01-01')\n",
        "                 and ct.prid = g.inn\n",
        "                 -- and ct.product_group = 3  -- вопрос\n",
        "                 and ct.emission_type <> 3    -- Не остатки\n",
        "                 and ct.gtin not like '029%'  -- Не остатки\n",
        "                 and g.pg_nk=3\n",
        "                 and g.pack_type = 'pack'\n",
        "               group by inn\n",
        "               , perc\n",
        "               \"\"\"\n",
        "\n",
        "    pdf_turn = ph.read_clickhouse(select_movies_query,connection=connection)\n",
        "    return pdf_turn\n",
        "\n",
        "\n",
        "def ToExcelTurn(path,DB):\n",
        "    df = pd.DataFrame(DB)\n",
        "    #df\n",
        "    df.to_excel(path)\n",
        "    #to_excel('D:\\AI\\DB\\Download_2.xlsx')\n",
        "    \n",
        "def dfConcatTurn():\n",
        "    #Вход: группы УОТ\n",
        "    #Выход: TAB с конкатенцией\n",
        "    Tab_SNG1['Y'] = 1\n",
        "    Tab_SNG2['Y'] = 1\n",
        "    Tab_SNG3['Y'] = 1\n",
        "    Tab_SNG4['Y'] = 1\n",
        "    Tab_BN['Y'] = 0\n",
        "   \n",
        "    TAB_ = pd.concat([Tab_SNG1, Tab_SNG2, Tab_SNG3, Tab_SNG4, Tab_BN],ignore_index=True)\n",
        "    return TAB_\n",
        "\n",
        "\n",
        "Tab_BN = QueryTurn(connection, Inn_BN_str_p1, Inn_BN_str_p2, Inn_BN_str_p3)\n",
        "Tab_SNG1 = QueryTurn(connection, Inn_SNG1_str_p1, Inn_SNG1_str_p2, Inn_SNG1_str_p3) #+\n",
        "Tab_SNG2 = QueryTurn(connection, Inn_SNG2_str_p1, Inn_SNG2_str_p2, Inn_SNG2_str_p3) #+\n",
        "Tab_SNG3 = QueryTurn(connection, Inn_SNG3_str_p1, Inn_SNG3_str_p2, Inn_SNG3_str_p3)\n",
        "Tab_SNG4 = QueryTurn(connection, Inn_SNG4_str_p1, Inn_SNG4_str_p2, Inn_SNG4_str_p3)\n",
        "#Tab_SNG4 = Tab_SNG4.loc[Tab_SNG4['perc'] > 0]  # Убираем строки с делением на 0\n",
        "\n",
        "Tab_BN = Tab_BN.loc[Tab_BN['perc'] != 0]  # Убираем строки с делением на 0\n",
        "Tab_BN = Tab_BN.loc[Tab_BN['perc'] != 100]  # Убираем строки с отсутствием продаж\n",
        "Tab_SNG1 = Tab_SNG1.loc[Tab_SNG1['perc']   != 0]  # Убираем строки с делением на 0\n",
        "Tab_SNG2 = Tab_SNG2.loc[Tab_SNG2['perc']   != 0]  # Убираем строки с делением на 0\n",
        "Tab_SNG3 = Tab_SNG3.loc[Tab_SNG3['perc']   != 0]  # Убираем строки с делением на 0\n",
        "Tab_SNG4 = Tab_SNG4.loc[Tab_SNG4['perc']   != 0]  # Убираем строки с делением на 0\n",
        "\n",
        "TAB = dfConcatTurn() "
      ],
      "execution_count": null,
      "outputs": []
    },
    {
      "cell_type": "code",
      "metadata": {
        "id": "IDiqA4eGvFA7"
      },
      "source": [
        "pip install -U numpy"
      ],
      "execution_count": null,
      "outputs": []
    },
    {
      "cell_type": "code",
      "metadata": {
        "id": "bPnpM4PyvFA7"
      },
      "source": [
        "!pip list -o"
      ],
      "execution_count": null,
      "outputs": []
    },
    {
      "cell_type": "code",
      "metadata": {
        "id": "xAywEbwOvFA7"
      },
      "source": [
        "pip install seaborn"
      ],
      "execution_count": null,
      "outputs": []
    },
    {
      "cell_type": "code",
      "metadata": {
        "id": "6CnuOcaxvFA7"
      },
      "source": [
        "pip install pandas"
      ],
      "execution_count": null,
      "outputs": []
    },
    {
      "cell_type": "markdown",
      "metadata": {
        "id": "Ht6A8LLHvFA7"
      },
      "source": [
        "## Настройка доступов off-line аналитики"
      ]
    },
    {
      "cell_type": "code",
      "metadata": {
        "id": "PMuxTu5mvFA7"
      },
      "source": [
        "!whoami"
      ],
      "execution_count": null,
      "outputs": []
    },
    {
      "cell_type": "code",
      "metadata": {
        "id": "6Gi6L0ECvFA7"
      },
      "source": [
        "import sys\n",
        "import os\n",
        "os.environ[\"HADOOP_HOME\"] = \"/opt/hadoop-default-3.1.3\"\n",
        "#os.environ[\"HIVE_HOME\"]= \"/opt/hive-default-3.1.2\"\n",
        "os.environ[\"SPARK_HOME\"] = \"/opt/spark-default-current\"\n",
        "sys.path.append(\"/opt/spark-default-current/python\")\n",
        "sys.path.append(\"/opt/spark-default-current/python/lib/py4j-0.10.7-src.zip\")\n",
        "\n",
        "from pyspark.sql import SparkSession\n",
        "from pyspark.sql.functions import *\n",
        "from pyspark.sql import *\n",
        "\n",
        "spark = SparkSession.builder\\\n",
        ".appName(\"SUR\")\\\n",
        ".master(\"yarn\")\\\n",
        ".config(\"spark.executor.cores\", \"4\")\\\n",
        ".config(\"spark.executor.memory\", \"16g\")\\\n",
        ".config(\"spark.executor.memoryOverhead\", \"2g\")\\\n",
        ".config(\"spark.dynamicAllocation.enabled\", \"true\")\\\n",
        ".config(\"spark.dynamicAllocation.minExecutors\", \"1\")\\\n",
        ".config(\"spark.dynamicAllocation.maxExecutors\", \"10\")\\\n",
        ".config(\"spark.dynamicAllocation.executorIdleTimeout\", \"600s\")\\\n",
        ".config(\"spark.external.shuffle.service\", \"true\")\\\n",
        ".config(\"spark.jars\", \"hdfs://analytics-offline/spark/jars/hudi-spark-bundle_2.11-0.6.0.jar\")\\\n",
        ".config(\"spark.executor.extraClassPath\", \"hdfs://analytics-offline/spark/jars/hudi-spark-bundle_2.11-0.6.0.jar\")\\\n",
        ".config(\"spark.driver.extraClassPath\", \"hdfs://analytics-offline/spark/jars/hudi-spark-bundle_2.11-0.6.0.jar\")\\\n",
        ".getOrCreate()\n",
        "\n",
        "import pandas as pd\n",
        "pd.set_option('display.max_rows', 3000)\n",
        "pd.set_option('display.max_columns', 1000)"
      ],
      "execution_count": null,
      "outputs": []
    },
    {
      "cell_type": "code",
      "metadata": {
        "id": "RU4OaXO8vFA8"
      },
      "source": [
        "spark.read\\\n",
        ".format(\"org.apache.hudi\")\\\n",
        ".load(\"/data/tobacco/silver/cis_history\")\\\n",
        ".createOrReplaceTempView(\"tob_silver_cis_history_view\")"
      ],
      "execution_count": null,
      "outputs": []
    },
    {
      "cell_type": "markdown",
      "metadata": {
        "id": "DpCflm5pvFA8"
      },
      "source": [
        "## Нарушение №1. Наличие у УОТа КМ, предназначенных для продукции, ввозимой на территорию Российской Федерации, в статусе «Эмитирован.Получен» более установленного срока с даты эмиссии. "
      ]
    },
    {
      "cell_type": "code",
      "metadata": {
        "id": "CjE7PdDTvFA8"
      },
      "source": [
        "spark.sql(\"\"\"\n",
        "select distinct g.inn from\n",
        "(select\n",
        "c\n",
        ",inn\n",
        ", floor(out_date - in_date) days\n",
        "from (\n",
        "select\n",
        "c\n",
        ", out.o inn\n",
        ", out.opd out_date\n",
        ", 0 in_date\n",
        "from tob_silver.cis_history out\n",
        "where out.opday >= '2021-10-25'\n",
        "and out.pg = 3\n",
        "and out.gt not like '029%' -- не остатки\n",
        "and out.t = 1  -- в обороте\n",
        "and out.c in ('02900009741493!YTtqN.', '000000462128184WVN86q', '04606203101061OkWFYAI')\n",
        "group by inn, out_date, in_date, c\n",
        "UNION ALL\n",
        "select\n",
        "c\n",
        ", in.o inn\n",
        ", 0 out_date\n",
        ", in.opd in_date\n",
        "from tob_silver.cis_history in\n",
        "where in.opday >= '2021-10-25'\n",
        "and in.pg = 3\n",
        "and in.gt not like '029%' -- не остатки\n",
        "and in.t = 0 -- нанесен\n",
        "and in.c in ('02900009741493!YTtqN.', '000000462128184WVN86q', '04606203101061OkWFYAI')\n",
        "group by inn, out_date, in_date, c\n",
        ") p\n",
        "group by c, inn, floor(out_date - in_date)\n",
        ") g\n",
        "\"\"\").toPandas()"
      ],
      "execution_count": null,
      "outputs": []
    },
    {
      "cell_type": "code",
      "metadata": {
        "scrolled": true,
        "id": "VI2bGi2HvFA8"
      },
      "source": [
        "df = spark.table(\"tob_silver.cis_history\").limit(5).toPandas()\n",
        "df"
      ],
      "execution_count": null,
      "outputs": []
    },
    {
      "cell_type": "code",
      "metadata": {
        "id": "28FsfGcEvFA8"
      },
      "source": [
        "# year_apple (год производства товара) : 2019: много\n",
        "# 2020: всего 2\n",
        "# Отбор по ИНН нарушителей\n",
        "# cis history\n",
        "\n",
        "# Чтобы посмотреть дату эмиссии (Emission_Date) КМ ye;yj нужно соединять с таблицей AGG_CIS"
      ],
      "execution_count": null,
      "outputs": []
    },
    {
      "cell_type": "code",
      "metadata": {
        "id": "9lF7q-dCvFA9"
      },
      "source": [
        "spark.sql(\"refresh table tob_silver.cis_history\")"
      ],
      "execution_count": null,
      "outputs": []
    },
    {
      "cell_type": "code",
      "metadata": {
        "scrolled": true,
        "id": "WK4kDB7RvFA9"
      },
      "source": [
        "#на выходе count (c), строим распределение\n",
        "# опеделяем, наример, что более 5 звеньев - это отклонение\n",
        "# Огнаничиваем select этими ИНН\n",
        "## InnerJoin по длинным цепочкам и те ИНН, которые в этих цепочках присутствуют\n",
        "# расчет ИНН, которые были в этих цепочках\n",
        "\n",
        "#https://zeppelin-offline.prod.analytics.crpt.tech/#/notebook/2GJRA8M1K\n",
        "\n",
        "spark.sql(\"\"\"\n",
        "select gt,c, count(sinn)  \n",
        "from tob_silver.cis_history\n",
        "where opday > '2021-10-01'\n",
        "group by gt,c\n",
        "\"\"\").toPandas()"
      ],
      "execution_count": null,
      "outputs": []
    },
    {
      "cell_type": "markdown",
      "metadata": {
        "id": "f2o2mID8vFA9"
      },
      "source": [
        "## Фактор 5. Наличие длинных ТПЦ по статистике среднего количества звеньев в отрасли: количество звеньев в обороте товара "
      ]
    },
    {
      "cell_type": "code",
      "metadata": {
        "id": "VpuiXv-IvFA9",
        "outputId": "40782073-3dc8-4049-8871-5834b4e00125"
      },
      "source": [
        "def Paretto_CISHISTORY(): \n",
        "#Cкрипт для расчета Парето от 28.10.21\n",
        "\n",
        "    spark.sql(\"\"\"\n",
        "    select paret.cnt_nodes, count(paret.c)  \n",
        "    from (\n",
        "    select c\n",
        "    , count(distinct hist.sinn) cnt_nodes\n",
        "    from (\n",
        "        select h.c, h.t, h.sinn, sum(case when st in ('4') then 1 end) over (partition by c) sum_out  -- st = 4\n",
        "        from tob_silver.cis_history h \n",
        "        where h.opday >= '2021-01-01'\n",
        "        ) hist\n",
        "    where hist.sum_out > 0\n",
        "    group by hist.c\n",
        "    ) paret\n",
        "    group by paret.cnt_nodes\n",
        "    \"\"\").toPandas()\n",
        "\n",
        "\n",
        "def Paretto():\n",
        "    import pandas as pd\n",
        "    import matplotlib.pyplot as plt\n",
        "    from matplotlib.ticker import PercentFormatter\n",
        "    path = 'Paretto_161121.xls'\n",
        "    sheet_name = 'DataSet'\n",
        "    DBi = pd.read_excel(path, sheet_name = sheet_name) \n",
        "  \n",
        "    df = pd.DataFrame({'count_KM': DBi.count_c.iloc[0:10]})  \n",
        "    df.index = DBi.cnt_nodes.iloc[0:10] \n",
        "    \n",
        "    df[\"cumpercentage\"] = df[\"count_KM\"].cumsum()/df[\"count_KM\"].sum()*100\n",
        "    print(df)\n",
        "    DDF = pd.DataFrame(df)\n",
        "  \n",
        "    \n",
        "    fig, ax = plt.subplots()\n",
        "    ax.bar(df.index, df[\"count_KM\"], color=\"C0\")\n",
        "    ax.set_xlabel('Количество участников ИНН в цепочке')\n",
        "    ax.set_ylabel('Количество кодов маркировки (КМ)  x 10^9')\n",
        "    \n",
        "    mn, mx = plt.xlim()  # настройка осей\n",
        "    plt.xlim(1, 10)\n",
        "    kde_xs = np.linspace(mn, mx, 10)\n",
        "   \n",
        "    ax2 = ax.twinx()\n",
        "    ax2.plot(df.index, df[\"cumpercentage\"], color=\"C1\", marker=\"D\", ms=7)\n",
        "    ax2.yaxis.set_major_formatter(PercentFormatter())\n",
        "    ax2.set_ylabel('Интегральный %')\n",
        "\n",
        "    ax.tick_params(axis=\"y\", colors=\"C0\")\n",
        "    ax2.tick_params(axis=\"y\", colors=\"C1\")\n",
        "    \n",
        "    Title = \"Диаграмма Паретто распределения количествао звеньев цепочек КМ\"\n",
        "    plt.title(Title);\n",
        "    fig.set_size_inches(9, 7)\n",
        "    plt.show()\n",
        "    print(\"80% КМ имеют количество участников в цепочке менее 4 ИНН\")\n",
        "    \n",
        "Paretto() \n",
        "\n"
      ],
      "execution_count": null,
      "outputs": [
        {
          "name": "stdout",
          "output_type": "stream",
          "text": [
            "             count_KM  cumpercentage\n",
            "cnt_nodes                           \n",
            "1           476135476      11.510943\n",
            "2           651373685      27.258405\n",
            "3           924479721      49.608417\n",
            "4          1590154229      88.051624\n",
            "5           464334910      99.277280\n",
            "6            26909304      99.927833\n",
            "7             2713769      99.993440\n",
            "8              250891      99.999506\n",
            "9               17861      99.999938\n",
            "10               2576     100.000000\n"
          ]
        },
        {
          "data": {
            "image/png": "[encoded data removed]",
            "text/plain": [
              "<Figure size 648x504 with 2 Axes>"
            ]
          },
          "metadata": {},
          "output_type": "display_data"
        },
        {
          "name": "stdout",
          "output_type": "stream",
          "text": [
            "80% КМ имеют количество участников в цепочке менее 4 ИНН\n"
          ]
        }
      ]
    },
    {
      "cell_type": "code",
      "metadata": {
        "id": "jxvSZmZgvFA9"
      },
      "source": [
        ""
      ],
      "execution_count": null,
      "outputs": []
    }
  ]
}